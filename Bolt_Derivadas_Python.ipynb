{
  "nbformat": 4,
  "nbformat_minor": 0,
  "metadata": {
    "colab": {
      "name": "Bolt_Derivadas_Python.ipynb",
      "provenance": [],
      "collapsed_sections": [],
      "authorship_tag": "ABX9TyNCrznVigJMYMnhq1Sstwaj",
      "include_colab_link": true
    },
    "kernelspec": {
      "name": "python3",
      "display_name": "Python 3"
    },
    "language_info": {
      "name": "python"
    }
  },
  "cells": [
    {
      "cell_type": "markdown",
      "metadata": {
        "id": "view-in-github",
        "colab_type": "text"
      },
      "source": [
        "<a href=\"https://colab.research.google.com/github/andradefisio/python_R_Ativ_CInt_EnPes_Ex/blob/main/Bolt_Derivadas_Python.ipynb\" target=\"_parent\"><img src=\"https://colab.research.google.com/assets/colab-badge.svg\" alt=\"Open In Colab\"/></a>"
      ]
    },
    {
      "cell_type": "markdown",
      "source": [
        "# CÁLCULO I \n",
        "\n",
        "## Newton, Leibniz, Usain Bolt e Python.\n",
        "\n",
        "\n",
        "Na disciplina de Cálculo I, os tópicos relacionados às funções e seus comportamentos estão entre os primeiros assuntos. Além disso, é feito um preâmbulo inicial sobre o comportamento das funções quando a variação de uma determinada variável tende a zero (p.ex.: comportamento de y em relação à x). Daí extraímos o conceito de limite, 'taxa de variação' e derivadas. \n",
        "\n",
        "\n",
        "Um exemplo para elucidar isto é o video da Khan academy sobre a relação entre Newton, Leibniz (considerados 'fundadores' do cálculo) e Usain Bolt (https://pt.khanacademy.org/math/ap-calculus-ab/ab-differentiation-1-new/ab-2-1/v/newton-leibniz-and-usain-bolt).\n",
        "\n",
        "\n",
        "A maioria de nós sabe que Bolt percorre os 100.0 m em 9.58s. \n",
        "\n",
        "\n",
        "A velocidade média dele seria dada por:\n",
        "Vmédia = distância/tempo = 100/9.58 = 23.5 milhas/hora\n",
        "\n",
        "\n",
        "Esta é uma estimativa da \"Velocidade Média\" de Usain Bolt nos 100m. \n",
        "\n",
        "\n",
        "Entretanto, sabemos que no instante da largada ou quando é dado o tiro, Usain Bolt parte com velocidade inicial zero, e vai acelerando com o passar do tempo. Conforme informado no video, a velocidade pico de Bolt é em torno de 30 milhas/hora. \n",
        "Assim, durante os 100 metros, haverá trechos em que a sua velocidade será maior, resultado numa variação ou deslocamento maior. Isto se deve ao fato de que a taxa de variação do espaço percorrido por ele em relação ao tempo ser maior (isto é, ocorre uma maior \"taxa de variação\" do espaço em relação ao tempo).  \n",
        "\n",
        "Se tomarmos um certo ponto P durante uma posição relativa ao tempo, a reta tangente à curva desse deslocamento de Bolt será a \"Velocidade Instantânea\" dele num tempo 't' ou quando o limite da variação do tempo tende a Zero. \n",
        "\n",
        "Isto significa dizer que ele tem uma taxa de deslocamento menor incialmente (menor taxa de variação do espaço/tempo incial), atinge um pico (maior taxa de variação) e provalmente cai um pouco próximo ao final dos 9.58 segundos.\n",
        "\n",
        "Todos estes cálculos podem ser realizados manualmente para se descobrir os limites e as derivações. Apesar disso, e valendo-se do ensejo de uma outra disciplina e do aprendizado de Python, fiz uma indagação se não seria possivel escrever e obter as derivadas realizando tudo em python. Assim, os próximos códigos são referentes à obtenção das derivadas em python. "
      ],
      "metadata": {
        "id": "AVJqiavBnJ37"
      }
    },
    {
      "cell_type": "code",
      "execution_count": 3,
      "metadata": {
        "id": "z6MuBmVlm9dU"
      },
      "outputs": [],
      "source": [
        "# Calculando a derivada usando python (\"extrapolando\" a aula de Calculo I) https://docs.sympy.org/latest/tutorial/calculus.html\n",
        "\n",
        "from sympy import *\n",
        "import numpy as np"
      ]
    },
    {
      "cell_type": "code",
      "source": [
        "x, y, z = symbols('x y z')\n",
        "init_printing(use_unicode = True)"
      ],
      "metadata": {
        "id": "OnR-9eD1nH9d"
      },
      "execution_count": 4,
      "outputs": []
    },
    {
      "cell_type": "markdown",
      "source": [
        "Para obter derivadas, devemos usar a função \"diff()\"\n"
      ],
      "metadata": {
        "id": "zt1w0APKy_MH"
      }
    },
    {
      "cell_type": "code",
      "source": [
        "# Exemplo 1\n",
        "\n",
        "# Vamos ver o exemplo destes cálculos de derivadas. \n",
        "# ou f´(x) = 2*x^7 + cos(x)  >> Esta é a função, ou y = 2*x^7 + cos(x) \n",
        "diff(2*x**7 + cos(x),x) # Seria o mesmo que dizer \" a derivada de y em relação a x\"\n",
        "\n",
        "# f´(x) = 14*x6 - sen(x)"
      ],
      "metadata": {
        "colab": {
          "base_uri": "https://localhost:8080/",
          "height": 38
        },
        "id": "eIFxqQAI0qhy",
        "outputId": "f843c3c3-7640-4b63-a3a1-912141f5c842"
      },
      "execution_count": 5,
      "outputs": [
        {
          "output_type": "execute_result",
          "data": {
            "text/plain": [
              "    6         \n",
              "14⋅x  - sin(x)"
            ],
            "image/png": "[encoded data removed]",
            "text/latex": "$\\displaystyle 14 x^{6} - \\sin{\\left(x \\right)}$"
          },
          "metadata": {},
          "execution_count": 5
        }
      ]
    },
    {
      "cell_type": "code",
      "source": [
        "# Exemplo 2\n",
        "\n",
        "diff(x+1/x*log(x),x) # log(x) = ln (\"logaritmo natural\" de x)"
      ],
      "metadata": {
        "colab": {
          "base_uri": "https://localhost:8080/",
          "height": 52
        },
        "id": "DVRIpEX-1e17",
        "outputId": "1290f623-5a8a-4c50-c156-214990be724a"
      },
      "execution_count": 6,
      "outputs": [
        {
          "output_type": "execute_result",
          "data": {
            "text/plain": [
              "    log(x)   1 \n",
              "1 - ────── + ──\n",
              "       2      2\n",
              "      x      x "
            ],
            "image/png": "[encoded data removed]",
            "text/latex": "$\\displaystyle 1 - \\frac{\\log{\\left(x \\right)}}{x^{2}} + \\frac{1}{x^{2}}$"
          },
          "metadata": {},
          "execution_count": 6
        }
      ]
    },
    {
      "cell_type": "code",
      "source": [
        "diff((x+1)/(x**2-1),x)"
      ],
      "metadata": {
        "colab": {
          "base_uri": "https://localhost:8080/",
          "height": 59
        },
        "id": "FWYMvyyD1vY9",
        "outputId": "7521026b-18b3-43a4-cbdf-356ac85b6ece"
      },
      "execution_count": 7,
      "outputs": [
        {
          "output_type": "execute_result",
          "data": {
            "text/plain": [
              "  2⋅x⋅(x + 1)     1   \n",
              "- ─────────── + ──────\n",
              "           2     2    \n",
              "   ⎛ 2    ⎞     x  - 1\n",
              "   ⎝x  - 1⎠           "
            ],
            "image/png": "[encoded data removed]",
            "text/latex": "$\\displaystyle - \\frac{2 x \\left(x + 1\\right)}{\\left(x^{2} - 1\\right)^{2}} + \\frac{1}{x^{2} - 1}$"
          },
          "metadata": {},
          "execution_count": 7
        }
      ]
    },
    {
      "cell_type": "code",
      "source": [
        "diff((x+1)/x*log(x),x)"
      ],
      "metadata": {
        "colab": {
          "base_uri": "https://localhost:8080/",
          "height": 52
        },
        "id": "RJ1S2xHG2AaM",
        "outputId": "d8bd6020-d43e-4d6e-fefa-ef8b58e0f44d"
      },
      "execution_count": 10,
      "outputs": [
        {
          "output_type": "execute_result",
          "data": {
            "text/plain": [
              "log(x)   (x + 1)⋅log(x)   x + 1\n",
              "────── - ────────────── + ─────\n",
              "  x             2            2 \n",
              "               x            x  "
            ],
            "image/png": "[encoded data removed]",
            "text/latex": "$\\displaystyle \\frac{\\log{\\left(x \\right)}}{x} - \\frac{\\left(x + 1\\right) \\log{\\left(x \\right)}}{x^{2}} + \\frac{x + 1}{x^{2}}$"
          },
          "metadata": {},
          "execution_count": 10
        }
      ]
    },
    {
      "cell_type": "code",
      "source": [
        "diff((x**2+1)*exp(x))   # exp() é a mm coisa que \"exponencial de x\""
      ],
      "metadata": {
        "colab": {
          "base_uri": "https://localhost:8080/",
          "height": 38
        },
        "id": "cVnDAENb2NbS",
        "outputId": "39ac02dd-8119-4669-adba-8a3d2c9bcff6"
      },
      "execution_count": 12,
      "outputs": [
        {
          "output_type": "execute_result",
          "data": {
            "text/plain": [
              "     x   ⎛ 2    ⎞  x\n",
              "2⋅x⋅ℯ  + ⎝x  + 1⎠⋅ℯ "
            ],
            "image/png": "[encoded data removed]",
            "text/latex": "$\\displaystyle 2 x e^{x} + \\left(x^{2} + 1\\right) e^{x}$"
          },
          "metadata": {},
          "execution_count": 12
        }
      ]
    },
    {
      "cell_type": "code",
      "source": [
        "diff(5*x**3 + cos(x),x)"
      ],
      "metadata": {
        "colab": {
          "base_uri": "https://localhost:8080/",
          "height": 38
        },
        "id": "3R-m0NN32X-G",
        "outputId": "9ac65b72-d288-43a4-981a-b08489b4c684"
      },
      "execution_count": 13,
      "outputs": [
        {
          "output_type": "execute_result",
          "data": {
            "text/plain": [
              "    2         \n",
              "15⋅x  - sin(x)"
            ],
            "image/png": "[encoded data removed]",
            "text/latex": "$\\displaystyle 15 x^{2} - \\sin{\\left(x \\right)}$"
          },
          "metadata": {},
          "execution_count": 13
        }
      ]
    },
    {
      "cell_type": "code",
      "source": [
        "diff(exp(x**2), x)"
      ],
      "metadata": {
        "colab": {
          "base_uri": "https://localhost:8080/",
          "height": 41
        },
        "id": "cjs42uxk2hrs",
        "outputId": "3f98e281-70ed-4a24-dad3-07a2248e6c46"
      },
      "execution_count": 14,
      "outputs": [
        {
          "output_type": "execute_result",
          "data": {
            "text/plain": [
              "     ⎛ 2⎞\n",
              "     ⎝x ⎠\n",
              "2⋅x⋅ℯ    "
            ],
            "image/png": "[encoded data removed]",
            "text/latex": "$\\displaystyle 2 x e^{x^{2}}$"
          },
          "metadata": {},
          "execution_count": 14
        }
      ]
    },
    {
      "cell_type": "markdown",
      "source": [
        "Dessa forma, dada uma função definida por f(x) ou y variando em função do x, a taxa de variação é dada pela derivada desta função e pode ser obtida pela função diff() do python. \n",
        "\n",
        "Tem-se assim a \"taxa de variação\" de y em função da variação de \"x\". \n",
        "\n",
        "Para obter a derivada f´(x), escreve a expressão na fç diff(<expressão da função>, x) ou f´(x) = diff(f(x), x) ou diff(y,x) \n",
        "\"derivada de y em relação a x\". "
      ],
      "metadata": {
        "id": "Y9hYenTI2pUk"
      }
    }
  ]
}