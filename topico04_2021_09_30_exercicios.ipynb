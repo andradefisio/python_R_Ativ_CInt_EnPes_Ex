{
  "nbformat": 4,
  "nbformat_minor": 0,
  "metadata": {
    "colab": {
      "name": "lista_topico04_2021_09_30_exercicios_RESOLVIDA_AntonioAndrade (1).ipynb",
      "provenance": [],
      "collapsed_sections": [],
      "include_colab_link": true
    },
    "kernelspec": {
      "name": "python3",
      "display_name": "Python 3"
    },
    "language_info": {
      "name": "python"
    }
  },
  "cells": [
    {
      "cell_type": "markdown",
      "metadata": {
        "id": "view-in-github",
        "colab_type": "text"
      },
      "source": [
        "<a href=\"https://colab.research.google.com/github/andradefisio/python_R_Ativ_CInt_EnPes_Ex/blob/main/topico04_2021_09_30_exercicios.ipynb\" target=\"_parent\"><img src=\"https://colab.research.google.com/assets/colab-badge.svg\" alt=\"Open In Colab\"/></a>"
      ]
    },
    {
      "cell_type": "markdown",
      "metadata": {
        "id": "6JJ8l7u8Dr4_"
      },
      "source": [
        "#Exercício\n",
        "\n",
        "Complete a cell abaixo com um código que conta, aproximadamente, o número de PALAVRAS em uma frase.\n",
        "\n",
        "Exemplos:\n",
        "\n",
        "- \"eita\" -> tem `1` palavra\n",
        "- \"eita vida\" -> tem `2` palavras\n",
        "- \"Como assim, João?\" -> tem `3` palavras\n",
        "\n",
        "Dica: o número de palavras em uma frase é aproximadamente igual ao \"número de espaços\" na frase, adicionado de 1.\n",
        "\n",
        "Dica: utilize `for`"
      ]
    },
    {
      "cell_type": "code",
      "metadata": {
        "id": "5IfJC_PZD0mr",
        "colab": {
          "base_uri": "https://localhost:8080/"
        },
        "outputId": "6d5be954-31ce-4d1b-b3a2-a78f1e1899a7"
      },
      "source": [
        "texto = input(\"Digite sua frase favorita: \")\n",
        "\n",
        "def tem_espaços(texto): \n",
        "         \n",
        "    contador = 0\n",
        "   \n",
        "    for i in range(0, len(texto)): \n",
        "        if texto[i] == \" \": \n",
        "            contador += 1\n",
        "          \n",
        "    return contador \n",
        "\n",
        "num_palavras = tem_espaços(texto) + 1\n",
        "\n",
        "print()\n",
        "print(\"O número de palavras é/são\", num_palavras) \n"
      ],
      "execution_count": 1,
      "outputs": [
        {
          "output_type": "stream",
          "name": "stdout",
          "text": [
            "Digite sua frase favorita: A vida é como andar de bicicleta. Pra manter o equilibrio tem que manter o movimento.\n",
            "\n",
            "O número de palavras é/são 16\n"
          ]
        }
      ]
    },
    {
      "cell_type": "markdown",
      "metadata": {
        "id": "kjp4sEdkFL4c"
      },
      "source": [
        "# Exercício\n",
        "\n",
        "Complete a cell abaixo com um código que verifica a diferença entre os números de caracteres de duas frases e, a partir dessa diferença, identifica qual frase é maior.\n",
        "\n",
        "Exemplos:\n",
        "- `abc` é maior que `a`, pois tem `2` caracteres a mais\n",
        "- `abcd` tem o mesmo tamanho que `aaaa`, pois tem o mesmo número de caracteres\n",
        "\n",
        "Dica: utilize `len(...)`"
      ]
    },
    {
      "cell_type": "code",
      "metadata": {
        "id": "Rxfkyj-KFkYp",
        "colab": {
          "base_uri": "https://localhost:8080/"
        },
        "outputId": "5a8bf89e-c3c3-4913-bd16-5949782392a3"
      },
      "source": [
        "frase_a = input(\"Digite a primeira frase: \")\n",
        "print()\n",
        "frase_b = input(\"Digite a segunda frase: \")\n",
        "print()\n",
        "\n",
        "if len(frase_a) > len(frase_b):\n",
        "    maior = frase_a\n",
        "    menor = frase_b\n",
        "    diferença_de_tamanho = len(frase_a) - len(frase_b)\n",
        "else:\n",
        "    maior = frase_b\n",
        "    menor = frase_a\n",
        "    diferença_de_tamanho = len(frase_b) - len(frase_a)\n",
        "\n",
        "if diferença_de_tamanho > 0 :\n",
        "    print(\"A maior frase é: \", maior,\"\\n\")\n",
        "    print(\"Ela tem\", diferença_de_tamanho, \"caracteres a mais.\")\n",
        "else:\n",
        "    print(\"As duas frases tem o mesmo tamanho\")"
      ],
      "execution_count": 2,
      "outputs": [
        {
          "output_type": "stream",
          "name": "stdout",
          "text": [
            "Digite a primeira frase: contando o número de palavras de uma frase\n",
            "\n",
            "Digite a segunda frase: string\n",
            "\n",
            "A maior frase é:  contando o número de palavras de uma frase \n",
            "\n",
            "Ela tem 36 caracteres a mais.\n"
          ]
        }
      ]
    },
    {
      "cell_type": "markdown",
      "metadata": {
        "id": "MHe6BKMCIu0k"
      },
      "source": [
        "#Exercício\n",
        "Complete a cell abaixo com código que:\n",
        "- pede para a pessoa digitar uma senha;\n",
        "- verifica se a senha digita é igual à senha secreta;\n",
        " - Se/quando a pessoa digitar a senha correta, escreva na tela `\"Senha correta!\"` e saia do loop.\n",
        " - Se a senha estiver incorreta, escreva `\"Senha incorreta\"` e repita o processo de coleta e verificação.\n",
        "\n",
        "## **A solução deve utilizar `while`.**"
      ]
    },
    {
      "cell_type": "code",
      "metadata": {
        "id": "km8Nq476Iu07",
        "outputId": "5c6874fb-6670-4075-dd69-bc3cc5c0a53a",
        "colab": {
          "base_uri": "https://localhost:8080/"
        }
      },
      "source": [
        "senha_secreta = \"senhaberg\"\n",
        "print('Olá, tudo bem contigo?')\n",
        "print()\n",
        "print('Bem-vindo ao \"Python|R Bank\".  ;-))')\n",
        "print()\n",
        "senha_digitada = input('Digite a sua senha por favor: ')\n",
        "\n",
        "while senha_digitada != senha_secreta:   # enquanto a senha digitada for diferente da senha secreta, print 'Senha incorreta'. Qdo esta condição não for mais satisfeita. A senha digitada = input, printa senha correta. \n",
        "    print('\\nSenha incorreta, tente novamente: ')\n",
        "    senha_digitada = input()\n",
        "print()\n",
        "print('Senha correta! \"Enjoy the journey..\"')\n"
      ],
      "execution_count": 4,
      "outputs": [
        {
          "output_type": "stream",
          "name": "stdout",
          "text": [
            "Olá, tudo bem contigo?\n",
            "\n",
            "Bem-vindo ao \"Python|R Bank\".  ;-))\n",
            "\n",
            "Digite a sua senha por favor: 10011001\n",
            "\n",
            "Senha incorreta, tente novamente: \n",
            "senhaberg\n",
            "\n",
            "Senha correta! \"Enjoy the journey..\"\n"
          ]
        }
      ]
    }
  ]
}