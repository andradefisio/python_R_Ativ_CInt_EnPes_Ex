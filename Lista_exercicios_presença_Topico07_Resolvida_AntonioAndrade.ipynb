{
  "nbformat": 4,
  "nbformat_minor": 0,
  "metadata": {
    "colab": {
      "name": "Lista_exercicios_presença_Topico07_Resolvida_AntonioAndrade.ipynb",
      "provenance": [],
      "collapsed_sections": [],
      "include_colab_link": true
    },
    "kernelspec": {
      "name": "python3",
      "display_name": "Python 3"
    },
    "language_info": {
      "name": "python"
    }
  },
  "cells": [
    {
      "cell_type": "markdown",
      "metadata": {
        "id": "view-in-github",
        "colab_type": "text"
      },
      "source": [
        "<a href=\"https://colab.research.google.com/github/andradefisio/python_R_Ativ_CInt_EnPes_Ex/blob/main/Lista_exercicios_presen%C3%A7a_Topico07_Resolvida_AntonioAndrade.ipynb\" target=\"_parent\"><img src=\"https://colab.research.google.com/assets/colab-badge.svg\" alt=\"Open In Colab\"/></a>"
      ]
    },
    {
      "cell_type": "markdown",
      "metadata": {
        "id": "y9dBQUy3vMwP"
      },
      "source": [
        "OBSERVAÇÃO IMPORTANTE: TODAS AS ANÁLISES EXPLORATÓRIAS E DESCRITIVAS AQUI EXECUTADAS SÃO APENAS PARA FINS DIDÁTICOS E DE APRENDIZADO APENAS. \n",
        "\n",
        "obs.: o download dos dados foi feito direto no site no dia 20/10/2021. \n",
        "\n",
        "O nome do arquivo começa com **20211019**, sendo atualizados até o dia 19 de outubro. \n",
        "\n",
        "    Obs.: Em alguns momentos, como não completava o upload do conjunto de dados, os valores eram diferentes. \n"
      ]
    },
    {
      "cell_type": "code",
      "metadata": {
        "id": "aI7UG0MeJARh"
      },
      "source": [
        "# Essa cell utiliza o programa `gdown` para copiar um arquivo do meu (Thiago) Google Drive\n",
        "# para o Google Colab.\n",
        "\n",
        "# Esse monte de caracteres depois de \"--id\" são o \"identificador do arquivo\".\n",
        "# O nome do arquivo é \"20211019_Casos-e-obitos-ESP.csv\"\n",
        "\n",
        "# Esse arquivo foi obtido (2021 - outubro - 19) no site https://www.saopaulo.sp.gov.br/planosp/simi/dados-abertos/\n",
        "# clicando em \"Microdados dos Casos\".\n",
        "\n",
        "# Mais especificamente, o arquivo baixado do website é um .zip, isto é, um arquivo compactado.\n",
        "# Foi fei a extração do arquivo \"20211019_Casos-e-obitos-ESP.csv\" e posterior\n",
        "# upload/exploração nesse exercício.\n",
        "\n",
        "# Juntamente com os dados, no site há um \"dicionário de microdados\",\n",
        "\n",
        "# Link original: https://www.saopaulo.sp.gov.br/wp-content/uploads/2020/07/Dic-dados_microdados.pdf\n"
      ],
      "execution_count": null,
      "outputs": []
    },
    {
      "cell_type": "code",
      "metadata": {
        "id": "rPBRTEU8JDW0"
      },
      "source": [
        "import pandas as pd"
      ],
      "execution_count": null,
      "outputs": []
    },
    {
      "cell_type": "code",
      "metadata": {
        "id": "imZmY9gnJVok"
      },
      "source": [
        "# O arquivo, embora seja \".csv\", utiliza \";\" para separar colunas.\n",
        "# Precisamos explicitar isso na função `.read_csv`\n",
        "\n",
        "df = pd.read_csv(filepath_or_buffer='20211019_Casos-e-obitos-ESP.csv',\n",
        "                 sep=';',\n",
        "                 header=0,\n",
        "                 engine='c')"
      ],
      "execution_count": null,
      "outputs": []
    },
    {
      "cell_type": "code",
      "metadata": {
        "id": "JdO6mDjNJdrl",
        "colab": {
          "base_uri": "https://localhost:8080/",
          "height": 312
        },
        "outputId": "cb09006e-91d8-478e-b36f-69324a3dd788"
      },
      "source": [
        "# Conferindo a \"cabeça\" do dataframe\n",
        "df.head(4)"
      ],
      "execution_count": null,
      "outputs": [
        {
          "output_type": "execute_result",
          "data": {
            "text/html": [
              "<div>\n",
              "<style scoped>\n",
              "    .dataframe tbody tr th:only-of-type {\n",
              "        vertical-align: middle;\n",
              "    }\n",
              "\n",
              "    .dataframe tbody tr th {\n",
              "        vertical-align: top;\n",
              "    }\n",
              "\n",
              "    .dataframe thead th {\n",
              "        text-align: right;\n",
              "    }\n",
              "</style>\n",
              "<table border=\"1\" class=\"dataframe\">\n",
              "  <thead>\n",
              "    <tr style=\"text-align: right;\">\n",
              "      <th></th>\n",
              "      <th>Genero</th>\n",
              "      <th>Municipio</th>\n",
              "      <th>Asma</th>\n",
              "      <th>Diabetes</th>\n",
              "      <th>Cardiopatia</th>\n",
              "      <th>Doenca Hematologica</th>\n",
              "      <th>Doenca Hepatica</th>\n",
              "      <th>Doenca Neurologica</th>\n",
              "      <th>Doenca Renal</th>\n",
              "      <th>Imunodepressao</th>\n",
              "      <th>Obesidade</th>\n",
              "      <th>Pneumopatia</th>\n",
              "      <th>Puérpera</th>\n",
              "      <th>Síndrome De Down</th>\n",
              "      <th>Outros Fatores De Risco</th>\n",
              "      <th>Diagnostico Covid19</th>\n",
              "      <th>Data Inicio Sintomas</th>\n",
              "      <th>Idade</th>\n",
              "      <th>Obito</th>\n",
              "    </tr>\n",
              "  </thead>\n",
              "  <tbody>\n",
              "    <tr>\n",
              "      <th>0</th>\n",
              "      <td>FEMININO</td>\n",
              "      <td>SÃO BERNARDO DO CAMPO</td>\n",
              "      <td>IGNORADO</td>\n",
              "      <td>IGNORADO</td>\n",
              "      <td>IGNORADO</td>\n",
              "      <td>IGNORADO</td>\n",
              "      <td>IGNORADO</td>\n",
              "      <td>IGNORADO</td>\n",
              "      <td>IGNORADO</td>\n",
              "      <td>IGNORADO</td>\n",
              "      <td>IGNORADO</td>\n",
              "      <td>IGNORADO</td>\n",
              "      <td>IGNORADO</td>\n",
              "      <td>IGNORADO</td>\n",
              "      <td>IGNORADO</td>\n",
              "      <td>CONFIRMADO</td>\n",
              "      <td>22/11/2020</td>\n",
              "      <td>43.0</td>\n",
              "      <td>0.0</td>\n",
              "    </tr>\n",
              "    <tr>\n",
              "      <th>1</th>\n",
              "      <td>FEMININO</td>\n",
              "      <td>SÃO BERNARDO DO CAMPO</td>\n",
              "      <td>IGNORADO</td>\n",
              "      <td>IGNORADO</td>\n",
              "      <td>IGNORADO</td>\n",
              "      <td>IGNORADO</td>\n",
              "      <td>IGNORADO</td>\n",
              "      <td>IGNORADO</td>\n",
              "      <td>IGNORADO</td>\n",
              "      <td>IGNORADO</td>\n",
              "      <td>IGNORADO</td>\n",
              "      <td>IGNORADO</td>\n",
              "      <td>IGNORADO</td>\n",
              "      <td>IGNORADO</td>\n",
              "      <td>IGNORADO</td>\n",
              "      <td>CONFIRMADO</td>\n",
              "      <td>14/05/2020</td>\n",
              "      <td>37.0</td>\n",
              "      <td>0.0</td>\n",
              "    </tr>\n",
              "    <tr>\n",
              "      <th>2</th>\n",
              "      <td>FEMININO</td>\n",
              "      <td>SÃO PAULO</td>\n",
              "      <td>IGNORADO</td>\n",
              "      <td>IGNORADO</td>\n",
              "      <td>IGNORADO</td>\n",
              "      <td>IGNORADO</td>\n",
              "      <td>IGNORADO</td>\n",
              "      <td>IGNORADO</td>\n",
              "      <td>IGNORADO</td>\n",
              "      <td>IGNORADO</td>\n",
              "      <td>IGNORADO</td>\n",
              "      <td>IGNORADO</td>\n",
              "      <td>IGNORADO</td>\n",
              "      <td>IGNORADO</td>\n",
              "      <td>IGNORADO</td>\n",
              "      <td>CONFIRMADO</td>\n",
              "      <td>23/02/2021</td>\n",
              "      <td>28.0</td>\n",
              "      <td>0.0</td>\n",
              "    </tr>\n",
              "    <tr>\n",
              "      <th>3</th>\n",
              "      <td>FEMININO</td>\n",
              "      <td>CAJAMAR</td>\n",
              "      <td>IGNORADO</td>\n",
              "      <td>IGNORADO</td>\n",
              "      <td>IGNORADO</td>\n",
              "      <td>IGNORADO</td>\n",
              "      <td>IGNORADO</td>\n",
              "      <td>IGNORADO</td>\n",
              "      <td>IGNORADO</td>\n",
              "      <td>IGNORADO</td>\n",
              "      <td>IGNORADO</td>\n",
              "      <td>IGNORADO</td>\n",
              "      <td>IGNORADO</td>\n",
              "      <td>IGNORADO</td>\n",
              "      <td>IGNORADO</td>\n",
              "      <td>CONFIRMADO</td>\n",
              "      <td>02/07/2021</td>\n",
              "      <td>19.0</td>\n",
              "      <td>0.0</td>\n",
              "    </tr>\n",
              "  </tbody>\n",
              "</table>\n",
              "</div>"
            ],
            "text/plain": [
              "     Genero              Municipio      Asma  ... Data Inicio Sintomas Idade Obito\n",
              "0  FEMININO  SÃO BERNARDO DO CAMPO  IGNORADO  ...           22/11/2020  43.0   0.0\n",
              "1  FEMININO  SÃO BERNARDO DO CAMPO  IGNORADO  ...           14/05/2020  37.0   0.0\n",
              "2  FEMININO              SÃO PAULO  IGNORADO  ...           23/02/2021  28.0   0.0\n",
              "3  FEMININO                CAJAMAR  IGNORADO  ...           02/07/2021  19.0   0.0\n",
              "\n",
              "[4 rows x 19 columns]"
            ]
          },
          "metadata": {},
          "execution_count": 7
        }
      ]
    },
    {
      "cell_type": "code",
      "metadata": {
        "id": "w6W1rsYuMIKt",
        "colab": {
          "base_uri": "https://localhost:8080/",
          "height": 430
        },
        "outputId": "82c747ee-73de-4be5-dc6b-aff338ceba1a"
      },
      "source": [
        "# Conferindo a \"cauda\" do dataframe\n",
        "df.tail(10)"
      ],
      "execution_count": null,
      "outputs": [
        {
          "output_type": "execute_result",
          "data": {
            "text/html": [
              "<div>\n",
              "<style scoped>\n",
              "    .dataframe tbody tr th:only-of-type {\n",
              "        vertical-align: middle;\n",
              "    }\n",
              "\n",
              "    .dataframe tbody tr th {\n",
              "        vertical-align: top;\n",
              "    }\n",
              "\n",
              "    .dataframe thead th {\n",
              "        text-align: right;\n",
              "    }\n",
              "</style>\n",
              "<table border=\"1\" class=\"dataframe\">\n",
              "  <thead>\n",
              "    <tr style=\"text-align: right;\">\n",
              "      <th></th>\n",
              "      <th>Genero</th>\n",
              "      <th>Municipio</th>\n",
              "      <th>Asma</th>\n",
              "      <th>Diabetes</th>\n",
              "      <th>Cardiopatia</th>\n",
              "      <th>Doenca Hematologica</th>\n",
              "      <th>Doenca Hepatica</th>\n",
              "      <th>Doenca Neurologica</th>\n",
              "      <th>Doenca Renal</th>\n",
              "      <th>Imunodepressao</th>\n",
              "      <th>Obesidade</th>\n",
              "      <th>Pneumopatia</th>\n",
              "      <th>Puérpera</th>\n",
              "      <th>Síndrome De Down</th>\n",
              "      <th>Outros Fatores De Risco</th>\n",
              "      <th>Diagnostico Covid19</th>\n",
              "      <th>Data Inicio Sintomas</th>\n",
              "      <th>Idade</th>\n",
              "      <th>Obito</th>\n",
              "    </tr>\n",
              "  </thead>\n",
              "  <tbody>\n",
              "    <tr>\n",
              "      <th>4391292</th>\n",
              "      <td>FEMININO</td>\n",
              "      <td>BIRIGUI</td>\n",
              "      <td>IGNORADO</td>\n",
              "      <td>IGNORADO</td>\n",
              "      <td>IGNORADO</td>\n",
              "      <td>IGNORADO</td>\n",
              "      <td>IGNORADO</td>\n",
              "      <td>IGNORADO</td>\n",
              "      <td>IGNORADO</td>\n",
              "      <td>IGNORADO</td>\n",
              "      <td>IGNORADO</td>\n",
              "      <td>IGNORADO</td>\n",
              "      <td>IGNORADO</td>\n",
              "      <td>IGNORADO</td>\n",
              "      <td>IGNORADO</td>\n",
              "      <td>CONFIRMADO</td>\n",
              "      <td>27/08/2020</td>\n",
              "      <td>21.0</td>\n",
              "      <td>0</td>\n",
              "    </tr>\n",
              "    <tr>\n",
              "      <th>4391293</th>\n",
              "      <td>FEMININO</td>\n",
              "      <td>TAQUARITINGA</td>\n",
              "      <td>IGNORADO</td>\n",
              "      <td>IGNORADO</td>\n",
              "      <td>IGNORADO</td>\n",
              "      <td>IGNORADO</td>\n",
              "      <td>IGNORADO</td>\n",
              "      <td>IGNORADO</td>\n",
              "      <td>IGNORADO</td>\n",
              "      <td>IGNORADO</td>\n",
              "      <td>IGNORADO</td>\n",
              "      <td>IGNORADO</td>\n",
              "      <td>IGNORADO</td>\n",
              "      <td>IGNORADO</td>\n",
              "      <td>IGNORADO</td>\n",
              "      <td>CONFIRMADO</td>\n",
              "      <td>05/06/2021</td>\n",
              "      <td>52.0</td>\n",
              "      <td>0</td>\n",
              "    </tr>\n",
              "    <tr>\n",
              "      <th>4391294</th>\n",
              "      <td>FEMININO</td>\n",
              "      <td>GUARULHOS</td>\n",
              "      <td>IGNORADO</td>\n",
              "      <td>IGNORADO</td>\n",
              "      <td>IGNORADO</td>\n",
              "      <td>IGNORADO</td>\n",
              "      <td>IGNORADO</td>\n",
              "      <td>IGNORADO</td>\n",
              "      <td>IGNORADO</td>\n",
              "      <td>IGNORADO</td>\n",
              "      <td>IGNORADO</td>\n",
              "      <td>IGNORADO</td>\n",
              "      <td>IGNORADO</td>\n",
              "      <td>IGNORADO</td>\n",
              "      <td>IGNORADO</td>\n",
              "      <td>CONFIRMADO</td>\n",
              "      <td>28/03/2021</td>\n",
              "      <td>55.0</td>\n",
              "      <td>0</td>\n",
              "    </tr>\n",
              "    <tr>\n",
              "      <th>4391295</th>\n",
              "      <td>FEMININO</td>\n",
              "      <td>COSMÓPOLIS</td>\n",
              "      <td>IGNORADO</td>\n",
              "      <td>IGNORADO</td>\n",
              "      <td>IGNORADO</td>\n",
              "      <td>IGNORADO</td>\n",
              "      <td>IGNORADO</td>\n",
              "      <td>IGNORADO</td>\n",
              "      <td>IGNORADO</td>\n",
              "      <td>IGNORADO</td>\n",
              "      <td>IGNORADO</td>\n",
              "      <td>IGNORADO</td>\n",
              "      <td>IGNORADO</td>\n",
              "      <td>IGNORADO</td>\n",
              "      <td>IGNORADO</td>\n",
              "      <td>CONFIRMADO</td>\n",
              "      <td>28/06/2021</td>\n",
              "      <td>54.0</td>\n",
              "      <td>0</td>\n",
              "    </tr>\n",
              "    <tr>\n",
              "      <th>4391296</th>\n",
              "      <td>FEMININO</td>\n",
              "      <td>RIO GRANDE DA SERRA</td>\n",
              "      <td>IGNORADO</td>\n",
              "      <td>IGNORADO</td>\n",
              "      <td>IGNORADO</td>\n",
              "      <td>IGNORADO</td>\n",
              "      <td>IGNORADO</td>\n",
              "      <td>IGNORADO</td>\n",
              "      <td>IGNORADO</td>\n",
              "      <td>IGNORADO</td>\n",
              "      <td>IGNORADO</td>\n",
              "      <td>IGNORADO</td>\n",
              "      <td>IGNORADO</td>\n",
              "      <td>IGNORADO</td>\n",
              "      <td>IGNORADO</td>\n",
              "      <td>CONFIRMADO</td>\n",
              "      <td>11/06/2021</td>\n",
              "      <td>56.0</td>\n",
              "      <td>0</td>\n",
              "    </tr>\n",
              "    <tr>\n",
              "      <th>4391297</th>\n",
              "      <td>FEMININO</td>\n",
              "      <td>CATANDUVA</td>\n",
              "      <td>IGNORADO</td>\n",
              "      <td>IGNORADO</td>\n",
              "      <td>IGNORADO</td>\n",
              "      <td>IGNORADO</td>\n",
              "      <td>IGNORADO</td>\n",
              "      <td>IGNORADO</td>\n",
              "      <td>IGNORADO</td>\n",
              "      <td>IGNORADO</td>\n",
              "      <td>IGNORADO</td>\n",
              "      <td>IGNORADO</td>\n",
              "      <td>IGNORADO</td>\n",
              "      <td>IGNORADO</td>\n",
              "      <td>IGNORADO</td>\n",
              "      <td>CONFIRMADO</td>\n",
              "      <td>29/04/2021</td>\n",
              "      <td>67.0</td>\n",
              "      <td>0</td>\n",
              "    </tr>\n",
              "    <tr>\n",
              "      <th>4391298</th>\n",
              "      <td>FEMININO</td>\n",
              "      <td>MONÇÕES</td>\n",
              "      <td>IGNORADO</td>\n",
              "      <td>IGNORADO</td>\n",
              "      <td>IGNORADO</td>\n",
              "      <td>IGNORADO</td>\n",
              "      <td>IGNORADO</td>\n",
              "      <td>IGNORADO</td>\n",
              "      <td>IGNORADO</td>\n",
              "      <td>IGNORADO</td>\n",
              "      <td>IGNORADO</td>\n",
              "      <td>IGNORADO</td>\n",
              "      <td>IGNORADO</td>\n",
              "      <td>IGNORADO</td>\n",
              "      <td>IGNORADO</td>\n",
              "      <td>CONFIRMADO</td>\n",
              "      <td>10/04/2021</td>\n",
              "      <td>56.0</td>\n",
              "      <td>0</td>\n",
              "    </tr>\n",
              "    <tr>\n",
              "      <th>4391299</th>\n",
              "      <td>FEMININO</td>\n",
              "      <td>PEDREGULHO</td>\n",
              "      <td>NÃO</td>\n",
              "      <td>NÃO</td>\n",
              "      <td>SIM</td>\n",
              "      <td>NÃO</td>\n",
              "      <td>NÃO</td>\n",
              "      <td>NÃO</td>\n",
              "      <td>NÃO</td>\n",
              "      <td>NÃO</td>\n",
              "      <td>NÃO</td>\n",
              "      <td>NÃO</td>\n",
              "      <td>NÃO</td>\n",
              "      <td>NÃO</td>\n",
              "      <td>NÃO</td>\n",
              "      <td>CONFIRMADO</td>\n",
              "      <td>01/06/2021</td>\n",
              "      <td>80.0</td>\n",
              "      <td>0</td>\n",
              "    </tr>\n",
              "    <tr>\n",
              "      <th>4391300</th>\n",
              "      <td>FEMININO</td>\n",
              "      <td>CATANDUVA</td>\n",
              "      <td>IGNORADO</td>\n",
              "      <td>IGNORADO</td>\n",
              "      <td>IGNORADO</td>\n",
              "      <td>IGNORADO</td>\n",
              "      <td>IGNORADO</td>\n",
              "      <td>IGNORADO</td>\n",
              "      <td>IGNORADO</td>\n",
              "      <td>IGNORADO</td>\n",
              "      <td>IGNORADO</td>\n",
              "      <td>IGNORADO</td>\n",
              "      <td>IGNORADO</td>\n",
              "      <td>IGNORADO</td>\n",
              "      <td>IGNORADO</td>\n",
              "      <td>CONFIRMADO</td>\n",
              "      <td>28/02/2021</td>\n",
              "      <td>45.0</td>\n",
              "      <td>0</td>\n",
              "    </tr>\n",
              "    <tr>\n",
              "      <th>4391301</th>\n",
              "      <td>MASCULINO</td>\n",
              "      <td>ITAQUAQUECETUBA</td>\n",
              "      <td>IGNORADO</td>\n",
              "      <td>IGNORADO</td>\n",
              "      <td>IGNORADO</td>\n",
              "      <td>IGNORADO</td>\n",
              "      <td>IGNORADO</td>\n",
              "      <td>IGNORADO</td>\n",
              "      <td>IGNORADO</td>\n",
              "      <td>IGNORADO</td>\n",
              "      <td>IGNORADO</td>\n",
              "      <td>IGNORADO</td>\n",
              "      <td>IGNORADO</td>\n",
              "      <td>IGNORADO</td>\n",
              "      <td>IGNORADO</td>\n",
              "      <td>CONFIRMADO</td>\n",
              "      <td>28/03/2021</td>\n",
              "      <td>46.0</td>\n",
              "      <td>0</td>\n",
              "    </tr>\n",
              "  </tbody>\n",
              "</table>\n",
              "</div>"
            ],
            "text/plain": [
              "            Genero            Municipio  ... Idade Obito\n",
              "4391292   FEMININO              BIRIGUI  ...  21.0     0\n",
              "4391293   FEMININO         TAQUARITINGA  ...  52.0     0\n",
              "4391294   FEMININO            GUARULHOS  ...  55.0     0\n",
              "4391295   FEMININO           COSMÓPOLIS  ...  54.0     0\n",
              "4391296   FEMININO  RIO GRANDE DA SERRA  ...  56.0     0\n",
              "4391297   FEMININO            CATANDUVA  ...  67.0     0\n",
              "4391298   FEMININO              MONÇÕES  ...  56.0     0\n",
              "4391299   FEMININO           PEDREGULHO  ...  80.0     0\n",
              "4391300   FEMININO            CATANDUVA  ...  45.0     0\n",
              "4391301  MASCULINO      ITAQUAQUECETUBA  ...  46.0     0\n",
              "\n",
              "[10 rows x 19 columns]"
            ]
          },
          "metadata": {},
          "execution_count": 15
        }
      ]
    },
    {
      "cell_type": "code",
      "metadata": {
        "id": "NNQgIJBpKIiH",
        "colab": {
          "base_uri": "https://localhost:8080/"
        },
        "outputId": "a1945cf7-ba86-4235-ac64-668ed0e66b77"
      },
      "source": [
        "# Conferindo dimensões\n",
        "nr_linhas, nr_colunas = df.shape\n",
        "print(f\"dataset tem {nr_linhas} linhas\")\n",
        "print(f\"dataset tem {nr_colunas} colunas\")"
      ],
      "execution_count": null,
      "outputs": [
        {
          "output_type": "stream",
          "name": "stdout",
          "text": [
            "dataset tem 4391302 linhas\n",
            "dataset tem 19 colunas\n"
          ]
        }
      ]
    },
    {
      "cell_type": "code",
      "metadata": {
        "id": "LCKYpONGOoTl",
        "colab": {
          "base_uri": "https://localhost:8080/"
        },
        "outputId": "95ad1115-405f-420d-ad57-206ed7981222"
      },
      "source": [
        "# Conferindo idades\n",
        "df['Idade'].describe()"
      ],
      "execution_count": null,
      "outputs": [
        {
          "output_type": "execute_result",
          "data": {
            "text/plain": [
              "count    4.373615e+06\n",
              "mean     4.093891e+01\n",
              "std      1.762367e+01\n",
              "min      0.000000e+00\n",
              "25%      2.800000e+01\n",
              "50%      4.000000e+01\n",
              "75%      5.300000e+01\n",
              "max      1.360000e+02\n",
              "Name: Idade, dtype: float64"
            ]
          },
          "metadata": {},
          "execution_count": 17
        }
      ]
    },
    {
      "cell_type": "code",
      "metadata": {
        "id": "ypjnALRbK0A9",
        "colab": {
          "base_uri": "https://localhost:8080/"
        },
        "outputId": "87a7b671-2120-4891-a974-7fd619785630"
      },
      "source": [
        "# Mudando opções de formatação do pandas\n",
        "# e conferindo idade novamente\n",
        "pd.set_option('float_format', '{:f}'.format)\n",
        "df['Idade'].describe()"
      ],
      "execution_count": null,
      "outputs": [
        {
          "output_type": "execute_result",
          "data": {
            "text/plain": [
              "count   4373615.000000\n",
              "mean         40.938909\n",
              "std          17.623671\n",
              "min           0.000000\n",
              "25%          28.000000\n",
              "50%          40.000000\n",
              "75%          53.000000\n",
              "max         136.000000\n",
              "Name: Idade, dtype: float64"
            ]
          },
          "metadata": {},
          "execution_count": 18
        }
      ]
    },
    {
      "cell_type": "code",
      "metadata": {
        "id": "maLv50Fi4PMX",
        "colab": {
          "base_uri": "https://localhost:8080/"
        },
        "outputId": "65c2bff2-7cff-4269-a648-8df3f888fd12"
      },
      "source": [
        "# identificando valores \"faltantes\" (NaN)\n",
        "df['Diagnostico Covid19'].isna().value_counts()  # nenhum valor faltando >> False = 4.391.302"
      ],
      "execution_count": null,
      "outputs": [
        {
          "output_type": "execute_result",
          "data": {
            "text/plain": [
              "False    4391302\n",
              "Name: Diagnostico Covid19, dtype: int64"
            ]
          },
          "metadata": {},
          "execution_count": 20
        }
      ]
    },
    {
      "cell_type": "code",
      "metadata": {
        "id": "1fuIvbyh7SZK",
        "colab": {
          "base_uri": "https://localhost:8080/"
        },
        "outputId": "08e03f14-095b-4c2f-f33f-817b9b887f87"
      },
      "source": [
        "num_obitos = df['Obito'] == 1\n",
        "df[num_obitos]\n",
        "num_obitos.value_counts()"
      ],
      "execution_count": null,
      "outputs": [
        {
          "output_type": "execute_result",
          "data": {
            "text/plain": [
              "False    4240092\n",
              "True      151210\n",
              "Name: Obito, dtype: int64"
            ]
          },
          "metadata": {},
          "execution_count": 22
        }
      ]
    },
    {
      "cell_type": "code",
      "metadata": {
        "id": "ZVnFp09AUyCm",
        "colab": {
          "base_uri": "https://localhost:8080/"
        },
        "outputId": "949b14b2-0cd5-4656-b946-5f72c6618c0e"
      },
      "source": [
        "# Exercício 1)\n",
        "# Identifique o número de pessoas que vieram a óbito\n",
        "\n",
        "# \\/ \\/ \\/ escreva sua solução aqui \\/ \\/ \\/\n",
        "\n",
        "\n",
        "print('O número de pessoas diagnosticadas com sintomas no Estado de SP que vieram a óbito foi *151210*.\\n 4.240.092 são \"0\" ou não óbitos.')\n",
        "print()\n",
        "\n",
        "\n",
        "# /\\ /\\ /\\ escreva sua solução aqui /\\ /\\ /\\ "
      ],
      "execution_count": null,
      "outputs": [
        {
          "output_type": "stream",
          "name": "stdout",
          "text": [
            "O número de pessoas diagnosticadas com sintomas no Estado de SP que vieram a óbito foi *151210*.\n",
            " 4.240.092 são \"0\" ou não óbitos.\n",
            "\n"
          ]
        }
      ]
    },
    {
      "cell_type": "code",
      "metadata": {
        "id": "wiSOC_fi9qyw"
      },
      "source": [
        "diagnostico = df['Diagnostico Covid19']"
      ],
      "execution_count": null,
      "outputs": []
    },
    {
      "cell_type": "code",
      "metadata": {
        "id": "yTRQb24o-AdT",
        "colab": {
          "base_uri": "https://localhost:8080/"
        },
        "outputId": "93f24454-48a0-4516-fdc5-fd5f7778b2fb"
      },
      "source": [
        "diagnostico\n",
        "diagnostico.value_counts()"
      ],
      "execution_count": null,
      "outputs": [
        {
          "output_type": "execute_result",
          "data": {
            "text/plain": [
              "CONFIRMADO    4391302\n",
              "Name: Diagnostico Covid19, dtype: int64"
            ]
          },
          "metadata": {},
          "execution_count": 25
        }
      ]
    },
    {
      "cell_type": "code",
      "metadata": {
        "id": "Q3JKEWq2VEDs",
        "colab": {
          "base_uri": "https://localhost:8080/"
        },
        "outputId": "b3761ea2-a7e9-4cbf-c2f0-4c7574add250"
      },
      "source": [
        "# Exercício 2)\n",
        "# Identifique o número de pessoas que foram diagnosticadas com sintomas de covid e vieram a óbito.\n",
        "\n",
        "# \\/ \\/ \\/ escreva sua solução aqui \\/ \\/ \\/\n",
        "mascara_diagnostico = df['Diagnostico Covid19'] == 'CONFIRMADO'\n",
        "mascara_obito = df['Obito'] == 1\n",
        "\n",
        "masc_diagnostico_morte = mascara_diagnostico & mascara_obito\n",
        "diagnostico_morte = df[masc_diagnostico_morte]\n",
        "diagnostico_morte\n",
        "\n",
        "diagnostico_morte.value_counts()\n",
        "\n",
        "# /\\ /\\ /\\ escreva sua solução aqui /\\ /\\ /\\ "
      ],
      "execution_count": null,
      "outputs": [
        {
          "output_type": "execute_result",
          "data": {
            "text/plain": [
              "Genero     Municipio   Asma      Diabetes  Cardiopatia  Doenca Hematologica  Doenca Hepatica  Doenca Neurologica  Doenca Renal  Imunodepressao  Obesidade  Pneumopatia  Puérpera  Síndrome De Down  Outros Fatores De Risco  Diagnostico Covid19  Data Inicio Sintomas  Idade      Obito\n",
              "MASCULINO  SÃO PAULO   IGNORADO  IGNORADO  IGNORADO     IGNORADO             IGNORADO         IGNORADO            IGNORADO      IGNORADO        IGNORADO   IGNORADO     IGNORADO  IGNORADO          IGNORADO                 CONFIRMADO           20/04/2021            48.000000  1        6\n",
              "                                                                                                                                                                                                                                                  10/03/2021            63.000000  1        5\n",
              "                                                                                                                                                                                                                                                  13/03/2021            72.000000  1        5\n",
              "FEMININO   SÃO PAULO   IGNORADO  IGNORADO  IGNORADO     IGNORADO             IGNORADO         IGNORADO            IGNORADO      IGNORADO        IGNORADO   IGNORADO     IGNORADO  IGNORADO          IGNORADO                 CONFIRMADO           10/03/2021            57.000000  1        5\n",
              "MASCULINO  SÃO PAULO   IGNORADO  IGNORADO  IGNORADO     IGNORADO             IGNORADO         IGNORADO            IGNORADO      IGNORADO        IGNORADO   IGNORADO     IGNORADO  IGNORADO          IGNORADO                 CONFIRMADO           15/03/2021            63.000000  1        5\n",
              "                                                                                                                                                                                                                                                                                           ..\n",
              "           MOGI GUAÇU  NÃO       SIM       SIM          NÃO                  NÃO              NÃO                 NÃO           NÃO             NÃO        NÃO          NÃO       NÃO               NÃO                      CONFIRMADO           17/05/2021            51.000000  1        1\n",
              "                                                                                                                                                                                                                                                  13/07/2020            82.000000  1        1\n",
              "                                                                                                                                                                                                                                                  12/07/2020            66.000000  1        1\n",
              "                                                                                                                                                                                                                                                  08/06/2021            63.000000  1        1\n",
              "FEMININO   ADAMANTINA  IGNORADO  IGNORADO  IGNORADO     IGNORADO             IGNORADO         IGNORADO            IGNORADO      IGNORADO        IGNORADO   IGNORADO     IGNORADO  IGNORADO          IGNORADO                 CONFIRMADO           01/05/2021            35.000000  1        1\n",
              "Length: 149365, dtype: int64"
            ]
          },
          "metadata": {},
          "execution_count": 26
        }
      ]
    },
    {
      "cell_type": "code",
      "metadata": {
        "id": "z_tdJw0ZWocr"
      },
      "source": [
        "print('O número de diagnosticados que vieram a óbito foi 149.365')"
      ],
      "execution_count": null,
      "outputs": []
    },
    {
      "cell_type": "code",
      "metadata": {
        "id": "v1Fs-D2iVY5m",
        "colab": {
          "base_uri": "https://localhost:8080/",
          "height": 213
        },
        "outputId": "20e1bd6b-848a-48a1-c591-f1d914017686"
      },
      "source": [
        "# Exercício 3)\n",
        "# Identifique a \"taxa de mortalidade\" de mulheres com menos de 30 anos\n",
        "\n",
        "# \\/ \\/ \\/ escreva sua solução aqui \\/ \\/ \\/\n",
        "mascara_fem = df['Genero'] == \"FEMININO\"\n",
        "\n",
        "mascara_menor30 = df['Idade'] < 30\n",
        "\n",
        "mascara_obito = df['Obito'] == 1\n",
        "\n",
        "obitos_30menos_fem = mascara_fem & mascara_menor30 & mascara_obito\n",
        "subconjunto_mulher_menor30_obitos = df[obitos_30menos_fem]\n",
        "subconjunto_mulher_menor30_obitos.head(3)\n",
        "\n",
        "#print('A taxa de mortalidade para mulheres com diagnóstico confirmado de Covid19, nesta faixa etária e para esta população da amostra é 0%, isto é 83638 (menos 1 NaN)')\n",
        "\n",
        "# /\\ /\\ /\\ escreva sua solução aqui /\\ /\\ /\\"
      ],
      "execution_count": null,
      "outputs": [
        {
          "output_type": "execute_result",
          "data": {
            "text/html": [
              "<div>\n",
              "<style scoped>\n",
              "    .dataframe tbody tr th:only-of-type {\n",
              "        vertical-align: middle;\n",
              "    }\n",
              "\n",
              "    .dataframe tbody tr th {\n",
              "        vertical-align: top;\n",
              "    }\n",
              "\n",
              "    .dataframe thead th {\n",
              "        text-align: right;\n",
              "    }\n",
              "</style>\n",
              "<table border=\"1\" class=\"dataframe\">\n",
              "  <thead>\n",
              "    <tr style=\"text-align: right;\">\n",
              "      <th></th>\n",
              "      <th>Genero</th>\n",
              "      <th>Municipio</th>\n",
              "      <th>Asma</th>\n",
              "      <th>Diabetes</th>\n",
              "      <th>Cardiopatia</th>\n",
              "      <th>Doenca Hematologica</th>\n",
              "      <th>Doenca Hepatica</th>\n",
              "      <th>Doenca Neurologica</th>\n",
              "      <th>Doenca Renal</th>\n",
              "      <th>Imunodepressao</th>\n",
              "      <th>Obesidade</th>\n",
              "      <th>Pneumopatia</th>\n",
              "      <th>Puérpera</th>\n",
              "      <th>Síndrome De Down</th>\n",
              "      <th>Outros Fatores De Risco</th>\n",
              "      <th>Diagnostico Covid19</th>\n",
              "      <th>Data Inicio Sintomas</th>\n",
              "      <th>Idade</th>\n",
              "      <th>Obito</th>\n",
              "    </tr>\n",
              "  </thead>\n",
              "  <tbody>\n",
              "    <tr>\n",
              "      <th>91</th>\n",
              "      <td>FEMININO</td>\n",
              "      <td>AMPARO</td>\n",
              "      <td>NÃO</td>\n",
              "      <td>NÃO</td>\n",
              "      <td>NÃO</td>\n",
              "      <td>NÃO</td>\n",
              "      <td>NÃO</td>\n",
              "      <td>NÃO</td>\n",
              "      <td>NÃO</td>\n",
              "      <td>NÃO</td>\n",
              "      <td>SIM</td>\n",
              "      <td>NÃO</td>\n",
              "      <td>NÃO</td>\n",
              "      <td>NÃO</td>\n",
              "      <td>NÃO</td>\n",
              "      <td>CONFIRMADO</td>\n",
              "      <td>18/07/2020</td>\n",
              "      <td>21.000000</td>\n",
              "      <td>1</td>\n",
              "    </tr>\n",
              "    <tr>\n",
              "      <th>1380</th>\n",
              "      <td>FEMININO</td>\n",
              "      <td>OSASCO</td>\n",
              "      <td>NÃO</td>\n",
              "      <td>SIM</td>\n",
              "      <td>NÃO</td>\n",
              "      <td>NÃO</td>\n",
              "      <td>NÃO</td>\n",
              "      <td>NÃO</td>\n",
              "      <td>NÃO</td>\n",
              "      <td>NÃO</td>\n",
              "      <td>NÃO</td>\n",
              "      <td>NÃO</td>\n",
              "      <td>NÃO</td>\n",
              "      <td>NÃO</td>\n",
              "      <td>NÃO</td>\n",
              "      <td>CONFIRMADO</td>\n",
              "      <td>04/10/2020</td>\n",
              "      <td>17.000000</td>\n",
              "      <td>1</td>\n",
              "    </tr>\n",
              "    <tr>\n",
              "      <th>8579</th>\n",
              "      <td>FEMININO</td>\n",
              "      <td>BAURU</td>\n",
              "      <td>NÃO</td>\n",
              "      <td>NÃO</td>\n",
              "      <td>NÃO</td>\n",
              "      <td>NÃO</td>\n",
              "      <td>NÃO</td>\n",
              "      <td>SIM</td>\n",
              "      <td>NÃO</td>\n",
              "      <td>NÃO</td>\n",
              "      <td>NÃO</td>\n",
              "      <td>NÃO</td>\n",
              "      <td>NÃO</td>\n",
              "      <td>NÃO</td>\n",
              "      <td>NÃO</td>\n",
              "      <td>CONFIRMADO</td>\n",
              "      <td>05/06/2021</td>\n",
              "      <td>23.000000</td>\n",
              "      <td>1</td>\n",
              "    </tr>\n",
              "  </tbody>\n",
              "</table>\n",
              "</div>"
            ],
            "text/plain": [
              "        Genero Municipio Asma  ... Data Inicio Sintomas     Idade Obito\n",
              "91    FEMININO    AMPARO  NÃO  ...           18/07/2020 21.000000     1\n",
              "1380  FEMININO    OSASCO  NÃO  ...           04/10/2020 17.000000     1\n",
              "8579  FEMININO     BAURU  NÃO  ...           05/06/2021 23.000000     1\n",
              "\n",
              "[3 rows x 19 columns]"
            ]
          },
          "metadata": {},
          "execution_count": 27
        }
      ]
    },
    {
      "cell_type": "code",
      "metadata": {
        "id": "KxvCwtW7Iiw3",
        "colab": {
          "base_uri": "https://localhost:8080/"
        },
        "outputId": "e1102c2d-bd5c-4fdb-a055-dfb1300fff5d"
      },
      "source": [
        "subconjunto_mulher_menor30_obitos.value_counts()"
      ],
      "execution_count": null,
      "outputs": [
        {
          "output_type": "execute_result",
          "data": {
            "text/plain": [
              "Genero    Municipio           Asma      Diabetes  Cardiopatia  Doenca Hematologica  Doenca Hepatica  Doenca Neurologica  Doenca Renal  Imunodepressao  Obesidade  Pneumopatia  Puérpera  Síndrome De Down  Outros Fatores De Risco  Diagnostico Covid19  Data Inicio Sintomas  Idade      Obito\n",
              "FEMININO  SANTOS              IGNORADO  IGNORADO  IGNORADO     IGNORADO             IGNORADO         IGNORADO            IGNORADO      IGNORADO        IGNORADO   IGNORADO     IGNORADO  IGNORADO          IGNORADO                 CONFIRMADO           16/05/2021            0.000000   1        2\n",
              "          ÁGUAS DE SÃO PEDRO  NÃO       NÃO       NÃO          NÃO                  NÃO              SIM                 NÃO           SIM             NÃO        NÃO          NÃO       NÃO               SIM                      CONFIRMADO           02/04/2021            28.000000  1        1\n",
              "          ITAPIRA             NÃO       NÃO       NÃO          NÃO                  NÃO              NÃO                 NÃO           NÃO             NÃO        NÃO          NÃO       SIM               NÃO                      CONFIRMADO           24/02/2021            29.000000  1        1\n",
              "          ITAPEVI             NÃO       NÃO       NÃO          NÃO                  NÃO              NÃO                 NÃO           NÃO             SIM        NÃO          NÃO       NÃO               NÃO                      CONFIRMADO           16/05/2021            25.000000  1        1\n",
              "                                                  SIM          NÃO                  NÃO              NÃO                 SIM           SIM             NÃO        NÃO          NÃO       NÃO               SIM                      CONFIRMADO           01/12/2020            23.000000  1        1\n",
              "                                                                                                                                                                                                                                                                                                  ..\n",
              "          SOROCABA            NÃO       NÃO       NÃO          NÃO                  NÃO              NÃO                 NÃO           NÃO             NÃO        NÃO          NÃO       NÃO               SIM                      CONFIRMADO           02/03/2021            0.000000   1        1\n",
              "                                                                                                                                                       IGNORADO   NÃO          NÃO       NÃO               SIM                      CONFIRMADO           06/03/2021            24.000000  1        1\n",
              "                              IGNORADO  IGNORADO  SIM          IGNORADO             IGNORADO         IGNORADO            IGNORADO      IGNORADO        SIM        IGNORADO     IGNORADO  IGNORADO          IGNORADO                 CONFIRMADO           06/07/2021            26.000000  1        1\n",
              "                                                  IGNORADO     IGNORADO             IGNORADO         IGNORADO            IGNORADO      SIM             IGNORADO   IGNORADO     IGNORADO  IGNORADO          SIM                      CONFIRMADO           10/07/2021            26.000000  1        1\n",
              "          AGUAÍ               IGNORADO  IGNORADO  IGNORADO     IGNORADO             IGNORADO         IGNORADO            IGNORADO      IGNORADO        IGNORADO   IGNORADO     IGNORADO  IGNORADO          IGNORADO                 CONFIRMADO           02/05/2021            24.000000  1        1\n",
              "Length: 1068, dtype: int64"
            ]
          },
          "metadata": {},
          "execution_count": 28
        }
      ]
    },
    {
      "cell_type": "code",
      "metadata": {
        "id": "54CY1Yi5JDVb",
        "colab": {
          "base_uri": "https://localhost:8080/"
        },
        "outputId": "7cc72652-f0ee-4f7b-e45c-10768757be23"
      },
      "source": [
        "# 1068 mulheres com menos de 30 anos morreram de COVID19\n",
        "\n",
        "# O número total de mulheres com menos de 30 anos com diagnostico de COVID19 É \n",
        "\n",
        "mascara_fem = df['Genero'] == \"FEMININO\"\n",
        "\n",
        "mascara_menor30 = df['Idade'] < 30\n",
        "\n",
        "mulher_menos30 = mascara_fem & mascara_menor30\n",
        "total_mulher_menos30 = df[mulher_menos30]\n",
        "total_mulher_menos30.value_counts()"
      ],
      "execution_count": null,
      "outputs": [
        {
          "output_type": "execute_result",
          "data": {
            "text/plain": [
              "Genero    Municipio   Asma      Diabetes  Cardiopatia  Doenca Hematologica  Doenca Hepatica  Doenca Neurologica  Doenca Renal  Imunodepressao  Obesidade  Pneumopatia  Puérpera  Síndrome De Down  Outros Fatores De Risco  Diagnostico Covid19  Data Inicio Sintomas  Idade      Obito\n",
              "FEMININO  SÃO PAULO   IGNORADO  IGNORADO  IGNORADO     IGNORADO             IGNORADO         IGNORADO            IGNORADO      IGNORADO        IGNORADO   IGNORADO     IGNORADO  IGNORADO          IGNORADO                 CONFIRMADO           04/01/2021            23.000000  0        65\n",
              "                                                                                                                                                                                                                                                 06/03/2021            27.000000  0        64\n",
              "                                                                                                                                                                                                                                                 10/03/2021            29.000000  0        62\n",
              "                                                                                                                                                                                                                                                 01/03/2021            24.000000  0        62\n",
              "                                                                                                                                                                                                                                                                       29.000000  0        60\n",
              "                                                                                                                                                                                                                                                                                           ..\n",
              "          PINDORAMA   IGNORADO  IGNORADO  IGNORADO     IGNORADO             IGNORADO         IGNORADO            IGNORADO      IGNORADO        IGNORADO   IGNORADO     IGNORADO  IGNORADO          IGNORADO                 CONFIRMADO           11/08/2020            23.000000  0         1\n",
              "                                                                                                                                                                                                                                                 11/10/2020            17.000000  0         1\n",
              "                                                                                                                                                                                                                                                 12/08/2020            1.000000   0         1\n",
              "                                                                                                                                                                                                                                                                       24.000000  0         1\n",
              "          ADAMANTINA  IGNORADO  IGNORADO  IGNORADO     IGNORADO             IGNORADO         IGNORADO            IGNORADO      IGNORADO        IGNORADO   IGNORADO     IGNORADO  IGNORADO          IGNORADO                 CONFIRMADO           01/02/2021            27.000000  0         1\n",
              "Length: 414196, dtype: int64"
            ]
          },
          "metadata": {},
          "execution_count": 29
        }
      ]
    },
    {
      "cell_type": "code",
      "metadata": {
        "id": "vx6OYFygJ6JB",
        "colab": {
          "base_uri": "https://localhost:8080/"
        },
        "outputId": "7fed46ae-3a48-43d4-c6c8-fc6b115e7682"
      },
      "source": [
        "# taxa de mortalidade nesta faixa etária \n",
        "taxa_mortalidade = (1068/414196)*100\n",
        "\n",
        "print(f'O resultado da taxa de mortalidade é {taxa_mortalidade:.2f} %')"
      ],
      "execution_count": null,
      "outputs": [
        {
          "output_type": "stream",
          "name": "stdout",
          "text": [
            "O resultado da taxa de mortalidade é 0.26 %\n"
          ]
        }
      ]
    }
  ]
}