{
  "nbformat": 4,
  "nbformat_minor": 0,
  "metadata": {
    "colab": {
      "name": "Lista_de_exercícios_topico03_AntonioAndrade_resolvida.ipynb",
      "provenance": [],
      "collapsed_sections": [
        "-2nHoYvSwjUr",
        "OBJRWHHTxzlo",
        "hB2-PGMfyDRr",
        "HMy4Ke-UyyN1",
        "eFYPoAdRzh_9",
        "3y6FYOB9zqi_",
        "vdVS-9n4zqjA",
        "W5cnVmv6j0yX",
        "8J2CoyCtkLJp",
        "-e-9Rz_lIKHQ",
        "Bzc1OEyhIKHR",
        "J4HAYLO_NtJi",
        "IY1yKO9LSLP3",
        "JO2JXIb-SLP3"
      ],
      "include_colab_link": true
    },
    "kernelspec": {
      "name": "python3",
      "display_name": "Python 3"
    },
    "language_info": {
      "name": "python"
    }
  },
  "cells": [
    {
      "cell_type": "markdown",
      "metadata": {
        "id": "view-in-github",
        "colab_type": "text"
      },
      "source": [
        "<a href=\"https://colab.research.google.com/github/andradefisio/python_R_Ativ_CInt_EnPes_Ex/blob/main/topico03_exerc%C3%ADcios_.ipynb\" target=\"_parent\"><img src=\"https://colab.research.google.com/assets/colab-badge.svg\" alt=\"Open In Colab\"/></a>"
      ]
    },
    {
      "cell_type": "markdown",
      "metadata": {
        "id": "vUa6BaS0RPpp"
      },
      "source": [
        "    topico03_exercicios\n",
        "\n"
      ]
    },
    {
      "cell_type": "markdown",
      "metadata": {
        "id": "iCgGbgqBfssO"
      },
      "source": [
        "# Problema 1\n",
        "\n",
        "Escreva uma fç que escreve \"oi\" na tela 5 vezes.\n",
        "- A função não deve ter parâmetros (entradas).\n",
        "- A função não deve ter retornos (saídas).\n",
        "- Não utilize estruturas de repetição (`for`/`while`)."
      ]
    },
    {
      "cell_type": "code",
      "metadata": {
        "colab": {
          "base_uri": "https://localhost:8080/"
        },
        "id": "6p4kpJshaR32",
        "outputId": "deaac91a-b0cd-42f7-a5de-02b25568d7eb"
      },
      "source": [
        "def func_oi():\n",
        "    print('oi')\n",
        "    print('oi')\n",
        "    print('oi')\n",
        "    print('oi')\n",
        "    print('oi')\n",
        "\n",
        "func_oi()"
      ],
      "execution_count": null,
      "outputs": [
        {
          "output_type": "stream",
          "name": "stdout",
          "text": [
            "oi\n",
            "oi\n",
            "oi\n",
            "oi\n",
            "oi\n"
          ]
        }
      ]
    },
    {
      "cell_type": "markdown",
      "metadata": {
        "id": "-2nHoYvSwjUr"
      },
      "source": [
        "## Solução (spoilers)"
      ]
    },
    {
      "cell_type": "code",
      "metadata": {
        "id": "gy6Qsk-lwk7a"
      },
      "source": [
        "def print_oi_copypasta():\n",
        "    print('oi')\n",
        "    print('oi')\n",
        "    print('oi')\n",
        "    print('oi')\n",
        "    print('oi')"
      ],
      "execution_count": 1,
      "outputs": []
    },
    {
      "cell_type": "markdown",
      "metadata": {
        "id": "Vn3gNG2kwxTh"
      },
      "source": [
        "## Exemplos de entradas e saídas"
      ]
    },
    {
      "cell_type": "code",
      "metadata": {
        "id": "krIBPdQFw1qV"
      },
      "source": [
        "print_oi_copypasta()"
      ],
      "execution_count": null,
      "outputs": []
    },
    {
      "cell_type": "markdown",
      "metadata": {
        "id": "_AYqhK04g13y"
      },
      "source": [
        "# Problema 2\n",
        "\n",
        "Escreva uma função que escreve \"melancia\" na tela 7 vezes.\n",
        "- a função não deve ter parâmetros (entradas)\n",
        "- a função não deve ter retornos (saídas)\n",
        "- utilize `while` loop\n",
        "- não utilize `break`\n"
      ]
    },
    {
      "cell_type": "code",
      "metadata": {
        "colab": {
          "base_uri": "https://localhost:8080/"
        },
        "id": "DBUjP8A6bGNY",
        "outputId": "af2f6c78-7a56-46eb-f685-9f4728177db5"
      },
      "source": [
        "def imprime_palavra():\n",
        "    contador = 0\n",
        "    while contador < 7:\n",
        "        print('melancia')\n",
        "        contador += 1\n",
        " \n",
        "imprime_palavra()"
      ],
      "execution_count": null,
      "outputs": [
        {
          "output_type": "stream",
          "name": "stdout",
          "text": [
            "melancia\n",
            "melancia\n",
            "melancia\n",
            "melancia\n",
            "melancia\n",
            "melancia\n",
            "melancia\n"
          ]
        }
      ]
    },
    {
      "cell_type": "markdown",
      "metadata": {
        "id": "OBJRWHHTxzlo"
      },
      "source": [
        "## Solução (spoilers)"
      ]
    },
    {
      "cell_type": "code",
      "metadata": {
        "id": "i7Mln_Xyx5Yc"
      },
      "source": [
        "def print_oi_while_breakless():\n",
        "    vezes = 0\n",
        "    while vezes < 7:\n",
        "        print('melancia')\n",
        "        vezes += 1"
      ],
      "execution_count": null,
      "outputs": []
    },
    {
      "cell_type": "markdown",
      "metadata": {
        "id": "hB2-PGMfyDRr"
      },
      "source": [
        "## Exemplos de entradas e saídas:"
      ]
    },
    {
      "cell_type": "code",
      "metadata": {
        "id": "hj56_EYAyLzk",
        "colab": {
          "base_uri": "https://localhost:8080/"
        },
        "outputId": "a61b9081-f612-493b-f28f-919fa1b9973a"
      },
      "source": [
        "print_oi_while_breakless()"
      ],
      "execution_count": null,
      "outputs": [
        {
          "output_type": "stream",
          "name": "stdout",
          "text": [
            "melancia\n",
            "melancia\n",
            "melancia\n",
            "melancia\n",
            "melancia\n",
            "melancia\n",
            "melancia\n"
          ]
        }
      ]
    },
    {
      "cell_type": "markdown",
      "metadata": {
        "id": "dbbKJDn9yyN0"
      },
      "source": [
        "# Problema 3\n",
        "\n",
        "Escreva uma função que recebe uma `str` como parâmetro e verifica se ela contém crase, isto é, o caractere \"à\".\n",
        "\n",
        "- a função NÃO deve print na tela, ela deve `return`\n",
        "- se a `str` de entrada for vazia, o retorno deve ser `False`\n",
        "- se a `str` contém \"à\", o retorno deve ser `True`"
      ]
    },
    {
      "cell_type": "code",
      "metadata": {
        "colab": {
          "base_uri": "https://localhost:8080/"
        },
        "id": "VXx_Tv_BffHj",
        "outputId": "75f85894-5785-46d6-e721-8439f274c68c"
      },
      "source": [
        "def contem_crase(texto):\n",
        "    for crase in texto:\n",
        "        if crase == 'à':\n",
        "            return True   \n",
        "    return False\n",
        "\n",
        "contem_crase('Vou à escola de bike todos os dias.')\n",
        "# contem_crase('Vou ao supermercado de carro')"
      ],
      "execution_count": null,
      "outputs": [
        {
          "output_type": "execute_result",
          "data": {
            "text/plain": [
              "True"
            ]
          },
          "metadata": {},
          "execution_count": 2
        }
      ]
    },
    {
      "cell_type": "markdown",
      "metadata": {
        "id": "HMy4Ke-UyyN1"
      },
      "source": [
        "## Solução (spoilers)"
      ]
    },
    {
      "cell_type": "code",
      "metadata": {
        "id": "RuakiJ-6yyN1"
      },
      "source": [
        "def tem_crase(texto):\n",
        "    tem = False\n",
        "\n",
        "    for letra in texto:\n",
        "        if letra == \"à\":\n",
        "            tem = True\n",
        "            break\n",
        "    \n",
        "    return tem\n",
        "\n",
        "# Tente identificar pq essa solução produz resultados iguais a anterior\n",
        "def tem_crase_mais_concisa(texto):\n",
        "    for letra in texto:\n",
        "        if letra == \"à\":\n",
        "            return True\n",
        "\n",
        "    return False"
      ],
      "execution_count": null,
      "outputs": []
    },
    {
      "cell_type": "markdown",
      "metadata": {
        "id": "eFYPoAdRzh_9"
      },
      "source": [
        "## Exemplos de entradas e saídas:"
      ]
    },
    {
      "cell_type": "code",
      "metadata": {
        "id": "o3C0M9Iwzh__"
      },
      "source": [
        "entrada = \"\"\n",
        "print('saida da solução 1          ', tem_crase(entrada))\n",
        "print('saida da solução alternativa', tem_crase_mais_concisa(entrada))\n",
        "print()"
      ],
      "execution_count": null,
      "outputs": []
    },
    {
      "cell_type": "code",
      "metadata": {
        "id": "B2P-J8ekHvW4"
      },
      "source": [
        "entrada = \"à\"\n",
        "print('saida da solução 1          ', tem_crase(entrada))\n",
        "print('saida da solução alternativa', tem_crase_mais_concisa(entrada))\n",
        "print()"
      ],
      "execution_count": null,
      "outputs": []
    },
    {
      "cell_type": "code",
      "metadata": {
        "id": "2aVA3bhlHwbN"
      },
      "source": [
        "entrada = \"Vamos à loja\"\n",
        "print('saida da solução 1          ', tem_crase(entrada))\n",
        "print('saida da solução alternativa', tem_crase_mais_concisa(entrada))\n",
        "print()"
      ],
      "execution_count": null,
      "outputs": []
    },
    {
      "cell_type": "code",
      "metadata": {
        "id": "4_AsnGgtHxsP"
      },
      "source": [
        "entrada = \"Vamos ao mercado\"\n",
        "print('saida da solução 1          ', tem_crase(entrada))\n",
        "print('saida da solução alternativa', tem_crase_mais_concisa(entrada))\n",
        "print()"
      ],
      "execution_count": null,
      "outputs": []
    },
    {
      "cell_type": "markdown",
      "metadata": {
        "id": "Txrz6tPPzqil"
      },
      "source": [
        "# Problema 4\n",
        "\n",
        "Escreva uma função que recebe uma `str` como entrada e que retorna o número de caracteres presentes nessa `str`.\n",
        "\n",
        "- A função deve `return` o número de caracteres.\n",
        "- A função não deve `print`.\n",
        "- Considere _qualquer \"simbolo\"_ como um caracter, incluindo espaços, pontos, etc."
      ]
    },
    {
      "cell_type": "code",
      "metadata": {
        "colab": {
          "base_uri": "https://localhost:8080/"
        },
        "id": "GRJXWoFBi_L_",
        "outputId": "acd537e2-251a-411b-e1ef-405ff3bc6b0f"
      },
      "source": [
        "def conta_caracteres(frase):\n",
        "    for cd_caracter in frase:\n",
        "        return len(frase) # vou usar o a fç len aqui\n",
        "\n",
        "conta_caracteres('A situação do Brasil é preocupante do ponto de vista político, sócio-econômico e ambiental')\n",
        "conta_caracteres('oi') "
      ],
      "execution_count": null,
      "outputs": [
        {
          "output_type": "execute_result",
          "data": {
            "text/plain": [
              "2"
            ]
          },
          "metadata": {},
          "execution_count": 37
        }
      ]
    },
    {
      "cell_type": "markdown",
      "metadata": {
        "id": "3y6FYOB9zqi_"
      },
      "source": [
        "## Solução (spoilers)"
      ]
    },
    {
      "cell_type": "code",
      "metadata": {
        "id": "z0erME6lzqjA"
      },
      "source": [
        "def conta_letras(texto):\n",
        "    contador = 0\n",
        "\n",
        "    for l in texto:\n",
        "        contador += 1\n",
        "    \n",
        "    return contador"
      ],
      "execution_count": null,
      "outputs": []
    },
    {
      "cell_type": "markdown",
      "metadata": {
        "id": "vdVS-9n4zqjA"
      },
      "source": [
        "## Exemplos de entradas e saídas:"
      ]
    },
    {
      "cell_type": "code",
      "metadata": {
        "id": "oGaWPi2FzqjB"
      },
      "source": [
        "entrada = ''\n",
        "print('numero de letras:', conta_letras(entrada))\n",
        "print()"
      ],
      "execution_count": null,
      "outputs": []
    },
    {
      "cell_type": "code",
      "metadata": {
        "id": "KNDMo6zIHrE5"
      },
      "source": [
        "entrada = 'Du'\n",
        "print('numero de letras:', conta_letras(entrada))\n",
        "print()"
      ],
      "execution_count": null,
      "outputs": []
    },
    {
      "cell_type": "code",
      "metadata": {
        "id": "sEFlFXAIHsfv"
      },
      "source": [
        "entrada = 'Du hast'\n",
        "print('numero de letras:', conta_letras(entrada))\n",
        "print()"
      ],
      "execution_count": null,
      "outputs": []
    },
    {
      "cell_type": "code",
      "metadata": {
        "id": "uvAgMdHEHthY"
      },
      "source": [
        "entrada = 'Du hast mich'\n",
        "print('numero de letras:', conta_letras(entrada))\n",
        "print()"
      ],
      "execution_count": null,
      "outputs": []
    },
    {
      "cell_type": "code",
      "metadata": {
        "id": "Y5j42Yyei9M7"
      },
      "source": [
        ""
      ],
      "execution_count": null,
      "outputs": []
    },
    {
      "cell_type": "markdown",
      "metadata": {
        "id": "ndy_fdJKjSK3"
      },
      "source": [
        "# Problema 5\n",
        "\n",
        "Escreva uma função que recebe duas `str` e verifica se elas tem o mesmo número de caracteres.\n",
        "\n",
        "- A função deve retornar `True` se elas tem o mesmo número de caracteres.\n",
        "- A função deve retorna `False` se elas tem números de caracteres diferentes.\n",
        "- A função PODE utilizar a função definida no Problema 4.\n",
        "\n"
      ]
    },
    {
      "cell_type": "code",
      "metadata": {
        "colab": {
          "base_uri": "https://localhost:8080/"
        },
        "id": "OAy-wnW4ktRU",
        "outputId": "75980de8-c7bb-43e4-8deb-5418ca00cdc3"
      },
      "source": [
        "def tamanho_String(string1, string2):\n",
        "    if len(string1) == len(string2):\n",
        "        return True\n",
        "    return False\n",
        "\n",
        "tamanho_String('A situação do Brasil é preocupante do ponto de vista político, sócio-econômico e ambiental', 'oi')\n",
        "tamanho_String('oi', 'oi')"
      ],
      "execution_count": null,
      "outputs": [
        {
          "output_type": "execute_result",
          "data": {
            "text/plain": [
              "True"
            ]
          },
          "metadata": {},
          "execution_count": 51
        }
      ]
    },
    {
      "cell_type": "markdown",
      "metadata": {
        "id": "W5cnVmv6j0yX"
      },
      "source": [
        "## Solução (spoilers)"
      ]
    },
    {
      "cell_type": "code",
      "metadata": {
        "id": "bhv7xmuBj4Eq"
      },
      "source": [
        "def mesmo_tamanho(texto1, texto2):\n",
        "    tamanho1 = conta_letras(texto1)\n",
        "    tamanho2 = conta_letras(texto2)\n",
        "\n",
        "    return tamanho1 == tamanho2"
      ],
      "execution_count": null,
      "outputs": []
    },
    {
      "cell_type": "markdown",
      "metadata": {
        "id": "8J2CoyCtkLJp"
      },
      "source": [
        "## Exemplos de entradas e saídas:"
      ]
    },
    {
      "cell_type": "code",
      "metadata": {
        "id": "ZDr4w7WekKkT"
      },
      "source": [
        "texto1 = ''\n",
        "texto2 = ''\n",
        "print('mesmo número de caracteres', mesmo_tamanho(texto1, texto2))\n",
        "print()"
      ],
      "execution_count": null,
      "outputs": []
    },
    {
      "cell_type": "code",
      "metadata": {
        "id": "iAe94OivkWsM"
      },
      "source": [
        "texto1 = 'eita'\n",
        "texto2 = 'oita'\n",
        "print('mesmo número de caracteres', mesmo_tamanho(texto1, texto2))\n",
        "print()"
      ],
      "execution_count": null,
      "outputs": []
    },
    {
      "cell_type": "code",
      "metadata": {
        "id": "j0QSDiUEH5Uv"
      },
      "source": [
        "texto1 = 'alfafa'\n",
        "texto2 = 'abroborbora'\n",
        "print('mesmo número de caracteres', mesmo_tamanho(texto1, texto2))\n",
        "print()"
      ],
      "execution_count": null,
      "outputs": []
    },
    {
      "cell_type": "code",
      "metadata": {
        "id": "oS-BHMVqH8Tv"
      },
      "source": [
        "texto1 = 'alfa'\n",
        "texto2 = ''\n",
        "print('mesmo número de caracteres', mesmo_tamanho(texto1, texto2))\n",
        "print()"
      ],
      "execution_count": null,
      "outputs": []
    },
    {
      "cell_type": "code",
      "metadata": {
        "id": "nqRVxrzSH-xF"
      },
      "source": [
        "texto1 = ''\n",
        "texto2 = 'beta'\n",
        "print('mesmo número de caracteres', mesmo_tamanho(texto1, texto2))\n",
        "print()"
      ],
      "execution_count": null,
      "outputs": []
    },
    {
      "cell_type": "code",
      "metadata": {
        "id": "DhO3HBIukpqh"
      },
      "source": [
        ""
      ],
      "execution_count": null,
      "outputs": []
    },
    {
      "cell_type": "markdown",
      "metadata": {
        "id": "fVjYntLDIKHQ"
      },
      "source": [
        "# Problema 6\n",
        "\n",
        "Escreva uma função que recebe:\n",
        "- uma `str` chamada `texto1`\n",
        "- uma `str` chamada `texto2`\n",
        "- um `int` chamado `limite`\n",
        "\n",
        "Essa função deve retorna `True` se a diferença dos números de caracteres de `texto1` e `texto2` for menor ou igual a `limite`. Em todos outros cenários ela deve retornar `False`.\n",
        "\n",
        "Você pode usar funções definidas em outros exercícios.\n",
        "\n",
        "Essa função tem \"detalhe\" difícil de perceber... Se sua solução não \"casar\" com todos exemplos de entrada/saídas esperadas, confira a solução provida e tente entender o motivo do \"detalhe\". Se não entender, já sabe :) fórum e monitoria!\n"
      ]
    },
    {
      "cell_type": "code",
      "metadata": {
        "id": "sTDESRzIr3tM"
      },
      "source": [
        "def diferença_caracteres(texto01,texto02, limite):\n",
        "\n",
        "    dif = len(texto01) - len(texto02)\n",
        "    if dif < 0:\n",
        "        dif = dif * (-1)\n",
        "\n",
        "    if  dif <= int(limite):\n",
        "        return True\n",
        "    else:\n",
        "        return False       "
      ],
      "execution_count": null,
      "outputs": []
    },
    {
      "cell_type": "code",
      "metadata": {
        "colab": {
          "base_uri": "https://localhost:8080/"
        },
        "id": "c-xIGzSAor9D",
        "outputId": "187be14c-eff4-4729-b909-e03f109df78b"
      },
      "source": [
        "# lTexto1 - lTexto2 = 12 >>>   delta_l > 2   Fora do limite >>> False\n",
        "diferença_caracteres('paralelepidedo', 'oi', 2)"
      ],
      "execution_count": null,
      "outputs": [
        {
          "output_type": "execute_result",
          "data": {
            "text/plain": [
              "False"
            ]
          },
          "metadata": {},
          "execution_count": 5
        }
      ]
    },
    {
      "cell_type": "code",
      "metadata": {
        "colab": {
          "base_uri": "https://localhost:8080/"
        },
        "id": "Kyr4zDS5o0zy",
        "outputId": "47d16fc3-c415-4f34-eb3b-be60ef0d2e5a"
      },
      "source": [
        "# lTexto1 - lTexto2 = 0 >>>   delta_l = 0    Dentro do limite >>> True\n",
        "diferença_caracteres('oi', 'oi', 2) "
      ],
      "execution_count": null,
      "outputs": [
        {
          "output_type": "execute_result",
          "data": {
            "text/plain": [
              "True"
            ]
          },
          "metadata": {},
          "execution_count": 6
        }
      ]
    },
    {
      "cell_type": "code",
      "metadata": {
        "colab": {
          "base_uri": "https://localhost:8080/"
        },
        "id": "1K1BWBnyo5s5",
        "outputId": "b6fd05f2-f582-48b3-af12-2d4975e5bca3"
      },
      "source": [
        "# lTexto1 - lTexto2 = 0 >>>   Fora do limite    True\n",
        "diferença_caracteres('oi','paralelepidedo', 2)"
      ],
      "execution_count": null,
      "outputs": [
        {
          "output_type": "execute_result",
          "data": {
            "text/plain": [
              "False"
            ]
          },
          "metadata": {},
          "execution_count": 7
        }
      ]
    },
    {
      "cell_type": "code",
      "metadata": {
        "colab": {
          "base_uri": "https://localhost:8080/"
        },
        "id": "RkN9EtE248v7",
        "outputId": "3f3b3a91-ddc3-4398-e82f-f6584708d59d"
      },
      "source": [
        "diferença_caracteres('amor', 'amora', 1)"
      ],
      "execution_count": null,
      "outputs": [
        {
          "output_type": "execute_result",
          "data": {
            "text/plain": [
              "True"
            ]
          },
          "metadata": {},
          "execution_count": 58
        }
      ]
    },
    {
      "cell_type": "markdown",
      "metadata": {
        "id": "-e-9Rz_lIKHQ"
      },
      "source": [
        "## Solução (spoilers)"
      ]
    },
    {
      "cell_type": "code",
      "metadata": {
        "id": "vT1dHDLkIKHR"
      },
      "source": [
        "def comprimento_parecido(texto1, texto2, limite):\n",
        "    tamanho1 = conta_letras(texto1)\n",
        "    tamanho2 = conta_letras(texto2)\n",
        "    \n",
        "    # detalhe: dependendo da ordem, o resultado da conta pode ser negativo\n",
        "    # e.g.: 3 - 7 = -4\n",
        "    # precisamos, portanto, garantir que vamos subtrair o menor do maior\n",
        "\n",
        "    if tamanho1 > tamanho2:\n",
        "        maior = tamanho1\n",
        "        menor = tamanho2\n",
        "    else:\n",
        "        maior = tamanho2\n",
        "        menor = tamanho1\n",
        "\n",
        "    diff = maior - menor\n",
        "    return diff <= limite"
      ],
      "execution_count": null,
      "outputs": []
    },
    {
      "cell_type": "markdown",
      "metadata": {
        "id": "Bzc1OEyhIKHR"
      },
      "source": [
        "## Exemplos de entradas e saídas:"
      ]
    },
    {
      "cell_type": "code",
      "metadata": {
        "id": "cskIbSzqIKHR",
        "colab": {
          "base_uri": "https://localhost:8080/",
          "height": 313
        },
        "outputId": "e913a914-5c0a-426f-ab71-af6829ce2ae5"
      },
      "source": [
        "t1 = ''\n",
        "t2 = ''\n",
        "l = 0\n",
        "print(comprimento_parecido(t1, t2, l))"
      ],
      "execution_count": null,
      "outputs": [
        {
          "output_type": "error",
          "ename": "NameError",
          "evalue": "ignored",
          "traceback": [
            "\u001b[0;31m---------------------------------------------------------------------------\u001b[0m",
            "\u001b[0;31mNameError\u001b[0m                                 Traceback (most recent call last)",
            "\u001b[0;32m<ipython-input-44-73f0a4253d9d>\u001b[0m in \u001b[0;36m<module>\u001b[0;34m()\u001b[0m\n\u001b[1;32m      2\u001b[0m \u001b[0mt2\u001b[0m \u001b[0;34m=\u001b[0m \u001b[0;34m''\u001b[0m\u001b[0;34m\u001b[0m\u001b[0;34m\u001b[0m\u001b[0m\n\u001b[1;32m      3\u001b[0m \u001b[0ml\u001b[0m \u001b[0;34m=\u001b[0m \u001b[0;36m0\u001b[0m\u001b[0;34m\u001b[0m\u001b[0;34m\u001b[0m\u001b[0m\n\u001b[0;32m----> 4\u001b[0;31m \u001b[0mprint\u001b[0m\u001b[0;34m(\u001b[0m\u001b[0mcomprimento_parecido\u001b[0m\u001b[0;34m(\u001b[0m\u001b[0mt1\u001b[0m\u001b[0;34m,\u001b[0m \u001b[0mt2\u001b[0m\u001b[0;34m,\u001b[0m \u001b[0ml\u001b[0m\u001b[0;34m)\u001b[0m\u001b[0;34m)\u001b[0m\u001b[0;34m\u001b[0m\u001b[0;34m\u001b[0m\u001b[0m\n\u001b[0m",
            "\u001b[0;32m<ipython-input-43-2970c5728328>\u001b[0m in \u001b[0;36mcomprimento_parecido\u001b[0;34m(texto1, texto2, limite)\u001b[0m\n\u001b[1;32m      1\u001b[0m \u001b[0;32mdef\u001b[0m \u001b[0mcomprimento_parecido\u001b[0m\u001b[0;34m(\u001b[0m\u001b[0mtexto1\u001b[0m\u001b[0;34m,\u001b[0m \u001b[0mtexto2\u001b[0m\u001b[0;34m,\u001b[0m \u001b[0mlimite\u001b[0m\u001b[0;34m)\u001b[0m\u001b[0;34m:\u001b[0m\u001b[0;34m\u001b[0m\u001b[0;34m\u001b[0m\u001b[0m\n\u001b[0;32m----> 2\u001b[0;31m     \u001b[0mt1\u001b[0m \u001b[0;34m=\u001b[0m \u001b[0mconta_letras\u001b[0m\u001b[0;34m(\u001b[0m\u001b[0mtexto1\u001b[0m\u001b[0;34m)\u001b[0m\u001b[0;34m\u001b[0m\u001b[0;34m\u001b[0m\u001b[0m\n\u001b[0m\u001b[1;32m      3\u001b[0m     \u001b[0mt2\u001b[0m \u001b[0;34m=\u001b[0m \u001b[0mconta_letras\u001b[0m\u001b[0;34m(\u001b[0m\u001b[0mtexto2\u001b[0m\u001b[0;34m)\u001b[0m\u001b[0;34m\u001b[0m\u001b[0;34m\u001b[0m\u001b[0m\n\u001b[1;32m      4\u001b[0m \u001b[0;34m\u001b[0m\u001b[0m\n\u001b[1;32m      5\u001b[0m     \u001b[0;31m# detalhe: dependendo da ordem, o resultado da conta pode ser negativo\u001b[0m\u001b[0;34m\u001b[0m\u001b[0;34m\u001b[0m\u001b[0;34m\u001b[0m\u001b[0m\n",
            "\u001b[0;31mNameError\u001b[0m: name 'conta_letras' is not defined"
          ]
        }
      ]
    },
    {
      "cell_type": "code",
      "metadata": {
        "id": "Nfb7Z0qdIKHR",
        "colab": {
          "base_uri": "https://localhost:8080/",
          "height": 313
        },
        "outputId": "5173cc45-c879-48b7-b9e2-da7d9fc6e340"
      },
      "source": [
        "t1 = 'aaa'\n",
        "t2 = 'bbb'\n",
        "l = 0\n",
        "print(comprimento_parecido(t1, t2, l))"
      ],
      "execution_count": null,
      "outputs": [
        {
          "output_type": "error",
          "ename": "NameError",
          "evalue": "ignored",
          "traceback": [
            "\u001b[0;31m---------------------------------------------------------------------------\u001b[0m",
            "\u001b[0;31mNameError\u001b[0m                                 Traceback (most recent call last)",
            "\u001b[0;32m<ipython-input-45-8152392766d5>\u001b[0m in \u001b[0;36m<module>\u001b[0;34m()\u001b[0m\n\u001b[1;32m      2\u001b[0m \u001b[0mt2\u001b[0m \u001b[0;34m=\u001b[0m \u001b[0;34m'bbb'\u001b[0m\u001b[0;34m\u001b[0m\u001b[0;34m\u001b[0m\u001b[0m\n\u001b[1;32m      3\u001b[0m \u001b[0ml\u001b[0m \u001b[0;34m=\u001b[0m \u001b[0;36m0\u001b[0m\u001b[0;34m\u001b[0m\u001b[0;34m\u001b[0m\u001b[0m\n\u001b[0;32m----> 4\u001b[0;31m \u001b[0mprint\u001b[0m\u001b[0;34m(\u001b[0m\u001b[0mcomprimento_parecido\u001b[0m\u001b[0;34m(\u001b[0m\u001b[0mt1\u001b[0m\u001b[0;34m,\u001b[0m \u001b[0mt2\u001b[0m\u001b[0;34m,\u001b[0m \u001b[0ml\u001b[0m\u001b[0;34m)\u001b[0m\u001b[0;34m)\u001b[0m\u001b[0;34m\u001b[0m\u001b[0;34m\u001b[0m\u001b[0m\n\u001b[0m",
            "\u001b[0;32m<ipython-input-43-2970c5728328>\u001b[0m in \u001b[0;36mcomprimento_parecido\u001b[0;34m(texto1, texto2, limite)\u001b[0m\n\u001b[1;32m      1\u001b[0m \u001b[0;32mdef\u001b[0m \u001b[0mcomprimento_parecido\u001b[0m\u001b[0;34m(\u001b[0m\u001b[0mtexto1\u001b[0m\u001b[0;34m,\u001b[0m \u001b[0mtexto2\u001b[0m\u001b[0;34m,\u001b[0m \u001b[0mlimite\u001b[0m\u001b[0;34m)\u001b[0m\u001b[0;34m:\u001b[0m\u001b[0;34m\u001b[0m\u001b[0;34m\u001b[0m\u001b[0m\n\u001b[0;32m----> 2\u001b[0;31m     \u001b[0mt1\u001b[0m \u001b[0;34m=\u001b[0m \u001b[0mconta_letras\u001b[0m\u001b[0;34m(\u001b[0m\u001b[0mtexto1\u001b[0m\u001b[0;34m)\u001b[0m\u001b[0;34m\u001b[0m\u001b[0;34m\u001b[0m\u001b[0m\n\u001b[0m\u001b[1;32m      3\u001b[0m     \u001b[0mt2\u001b[0m \u001b[0;34m=\u001b[0m \u001b[0mconta_letras\u001b[0m\u001b[0;34m(\u001b[0m\u001b[0mtexto2\u001b[0m\u001b[0;34m)\u001b[0m\u001b[0;34m\u001b[0m\u001b[0;34m\u001b[0m\u001b[0m\n\u001b[1;32m      4\u001b[0m \u001b[0;34m\u001b[0m\u001b[0m\n\u001b[1;32m      5\u001b[0m     \u001b[0;31m# detalhe: dependendo da ordem, o resultado da conta pode ser negativo\u001b[0m\u001b[0;34m\u001b[0m\u001b[0;34m\u001b[0m\u001b[0;34m\u001b[0m\u001b[0m\n",
            "\u001b[0;31mNameError\u001b[0m: name 'conta_letras' is not defined"
          ]
        }
      ]
    },
    {
      "cell_type": "code",
      "metadata": {
        "id": "CCpN3mRDIKHR"
      },
      "source": [
        "t1 = 'aaa'\n",
        "t2 = 'bbb'\n",
        "l = -1\n",
        "print(comprimento_parecido(t1, t2, l))"
      ],
      "execution_count": null,
      "outputs": []
    },
    {
      "cell_type": "code",
      "metadata": {
        "id": "Gvz2SRIQM402"
      },
      "source": [
        "t1 = '123456'\n",
        "t2 = '1234'\n",
        "l = -2\n",
        "print(comprimento_parecido(t1, t2, l))"
      ],
      "execution_count": null,
      "outputs": []
    },
    {
      "cell_type": "code",
      "metadata": {
        "id": "QLzGtXk5M91b"
      },
      "source": [
        "t1 = '1234'\n",
        "t2 = '123456'\n",
        "l = -2\n",
        "print(comprimento_parecido(t1, t2, l))"
      ],
      "execution_count": null,
      "outputs": []
    },
    {
      "cell_type": "code",
      "metadata": {
        "id": "xmE_NTTaIKHS"
      },
      "source": [
        "t1 = 'afff'\n",
        "t2 = 'aff'\n",
        "l = 1\n",
        "print(comprimento_parecido(t1, t2, l))"
      ],
      "execution_count": null,
      "outputs": []
    },
    {
      "cell_type": "code",
      "metadata": {
        "id": "HtLFpOSVMP8M"
      },
      "source": [
        "t1 = 'afff'\n",
        "t2 = 'aff'\n",
        "l = 0\n",
        "print(comprimento_parecido(t1, t2, l))"
      ],
      "execution_count": null,
      "outputs": []
    },
    {
      "cell_type": "code",
      "metadata": {
        "id": "kVMuCurBMNpa"
      },
      "source": [
        "t1 = 'aff'\n",
        "t2 = 'afff'\n",
        "l = 1\n",
        "print(comprimento_parecido(t1, t2, l))"
      ],
      "execution_count": null,
      "outputs": []
    },
    {
      "cell_type": "code",
      "metadata": {
        "id": "e6Isi6ZFMSM0"
      },
      "source": [
        "t1 = 'aff'\n",
        "t2 = 'afff'\n",
        "l = 0\n",
        "print(comprimento_parecido(t1, t2, l))"
      ],
      "execution_count": null,
      "outputs": []
    },
    {
      "cell_type": "code",
      "metadata": {
        "id": "ykzOZRpFMTf0"
      },
      "source": [
        "t1 = '123456'\n",
        "t2 = '12'\n",
        "l = 4\n",
        "print(comprimento_parecido(t1, t2, l))"
      ],
      "execution_count": null,
      "outputs": []
    },
    {
      "cell_type": "markdown",
      "metadata": {
        "id": "gVpdx_v-NtJg"
      },
      "source": [
        "# Problema 7\n",
        "\n",
        "Escreva uma função que faz a mesma coisa que a anterior, mas com a seguinte modificação:\n",
        "\n",
        "Antes de realizar as computações, verifica o valor de `limite`:\n",
        "\n",
        "- caso `limite` seja MAIOR que zero, siga com o fluxo de execução normal\n",
        "\n",
        "- caso `limite` seja IGUAL a zero, escreva na tela \"AVISO, TALVEZ VOCÊ TENHA COMETIDO UM ERRO. O LIMITE ESTÁ COM VALOR 0\", e continue com a execução normal\n",
        "\n",
        "- caso `limite` seja MENOR que zero, aborte a execução utilizando `raise ValueError(\"limite precisa ter um valor maior ou igual a zero\")`.\n",
        "\n",
        "Você pode usar funções definidas anteriormente."
      ]
    },
    {
      "cell_type": "code",
      "metadata": {
        "id": "EAc1L854h4bV"
      },
      "source": [
        "def comprimento_testeLimite(texto01,texto02, limite):\n",
        "\n",
        "    if limite < 0:\n",
        "        raise ValueError('limite precisa ter um valor maior ou igual a zero')\n",
        "    \n",
        "    if limite == 0:\n",
        "        print('AVISO, TALVEZ VOCÊ TENHA COMETIDO UM ERRO. O LIMITE ESTÁ COM VALOR 0')\n",
        "\n",
        "    return diferença_caracteres(texto01,texto02, limite)"
      ],
      "execution_count": null,
      "outputs": []
    },
    {
      "cell_type": "code",
      "metadata": {
        "colab": {
          "base_uri": "https://localhost:8080/"
        },
        "id": "_00cgPKLpKuk",
        "outputId": "e4a1c293-a172-45cb-b02c-d3cef544fbfa"
      },
      "source": [
        "texto01 = 'oi'\n",
        "texto02 = 'A vida é como andar de bicicleta...'\n",
        "limite = 0\n",
        "print(comprimento_testeLimite(texto1, texto2, limite))"
      ],
      "execution_count": null,
      "outputs": [
        {
          "output_type": "stream",
          "name": "stdout",
          "text": [
            "AVISO, TALVEZ VOCÊ TENHA COMETIDO UM ERRO. O LIMITE ESTÁ COM VALOR 0\n",
            "False\n"
          ]
        }
      ]
    },
    {
      "cell_type": "code",
      "metadata": {
        "colab": {
          "base_uri": "https://localhost:8080/"
        },
        "id": "fEKPheSs18En",
        "outputId": "3247ce09-71dd-44d6-ef2f-3aef5f574708"
      },
      "source": [
        "texto01 = 'oi'\n",
        "texto02 = 'oi'\n",
        "l = 0\n",
        "print(comprimento_testeLimite(texto01, texto02, limite = 0))"
      ],
      "execution_count": null,
      "outputs": [
        {
          "output_type": "stream",
          "name": "stdout",
          "text": [
            "AVISO, TALVEZ VOCÊ TENHA COMETIDO UM ERRO. O LIMITE ESTÁ COM VALOR 0\n",
            "True\n"
          ]
        }
      ]
    },
    {
      "cell_type": "markdown",
      "metadata": {
        "id": "Dxq_bAEKNtJh"
      },
      "source": [
        "## Solução (spoilers)"
      ]
    },
    {
      "cell_type": "code",
      "metadata": {
        "id": "9jGoEdOCNtJh"
      },
      "source": [
        "def comprimento_parecido_checando_limite(texto1, texto2, limite):\n",
        "    if limite < 0:\n",
        "        raise ValueError(\"limite precisa ter um valor maior ou igual a zero\")\n",
        "\n",
        "    if limite == 0:\n",
        "        print(\"AVISO, TALVEZ VOCÊ TENHA COMETIDO UM ERRO. O LIMITE ESTÁ COM VALOR 0\")\n",
        "\n",
        "    return comprimento_parecido(texto1, texto2, limite)"
      ],
      "execution_count": null,
      "outputs": []
    },
    {
      "cell_type": "markdown",
      "metadata": {
        "id": "J4HAYLO_NtJi"
      },
      "source": [
        "## Exemplos de entradas e saídas:"
      ]
    },
    {
      "cell_type": "code",
      "metadata": {
        "id": "HOgnF2qdO4Po",
        "colab": {
          "base_uri": "https://localhost:8080/",
          "height": 337
        },
        "outputId": "67677ea9-d836-48df-a178-d86f0d85291c"
      },
      "source": [
        "t1 = '1234'\n",
        "t2 = '12'\n",
        "l = 2\n",
        "print(comprimento_parecido_checando_limite(t1, t2, l))"
      ],
      "execution_count": null,
      "outputs": [
        {
          "output_type": "error",
          "ename": "NameError",
          "evalue": "ignored",
          "traceback": [
            "\u001b[0;31m---------------------------------------------------------------------------\u001b[0m",
            "\u001b[0;31mNameError\u001b[0m                                 Traceback (most recent call last)",
            "\u001b[0;32m<ipython-input-27-166d101dfdb9>\u001b[0m in \u001b[0;36m<module>\u001b[0;34m()\u001b[0m\n\u001b[1;32m      2\u001b[0m \u001b[0mt2\u001b[0m \u001b[0;34m=\u001b[0m \u001b[0;34m'12'\u001b[0m\u001b[0;34m\u001b[0m\u001b[0;34m\u001b[0m\u001b[0m\n\u001b[1;32m      3\u001b[0m \u001b[0ml\u001b[0m \u001b[0;34m=\u001b[0m \u001b[0;36m2\u001b[0m\u001b[0;34m\u001b[0m\u001b[0;34m\u001b[0m\u001b[0m\n\u001b[0;32m----> 4\u001b[0;31m \u001b[0mprint\u001b[0m\u001b[0;34m(\u001b[0m\u001b[0mcomprimento_parecido_checando_limite\u001b[0m\u001b[0;34m(\u001b[0m\u001b[0mt1\u001b[0m\u001b[0;34m,\u001b[0m \u001b[0mt2\u001b[0m\u001b[0;34m,\u001b[0m \u001b[0ml\u001b[0m\u001b[0;34m)\u001b[0m\u001b[0;34m)\u001b[0m\u001b[0;34m\u001b[0m\u001b[0;34m\u001b[0m\u001b[0m\n\u001b[0m",
            "\u001b[0;32m<ipython-input-16-d2adbb46a5df>\u001b[0m in \u001b[0;36mcomprimento_parecido_checando_limite\u001b[0;34m(texto1, texto2, limite)\u001b[0m\n\u001b[1;32m      6\u001b[0m         \u001b[0mprint\u001b[0m\u001b[0;34m(\u001b[0m\u001b[0;34m\"AVISO, TALVEZ VOCÊ TENHA COMETIDO UM ERRO. O LIMITE ESTÁ COM VALOR 0\"\u001b[0m\u001b[0;34m)\u001b[0m\u001b[0;34m\u001b[0m\u001b[0;34m\u001b[0m\u001b[0m\n\u001b[1;32m      7\u001b[0m \u001b[0;34m\u001b[0m\u001b[0m\n\u001b[0;32m----> 8\u001b[0;31m     \u001b[0;32mreturn\u001b[0m \u001b[0mcomprimento_parecido\u001b[0m\u001b[0;34m(\u001b[0m\u001b[0mtexto1\u001b[0m\u001b[0;34m,\u001b[0m \u001b[0mtexto2\u001b[0m\u001b[0;34m,\u001b[0m \u001b[0mlimite\u001b[0m\u001b[0;34m)\u001b[0m\u001b[0;34m\u001b[0m\u001b[0;34m\u001b[0m\u001b[0m\n\u001b[0m",
            "\u001b[0;32m<ipython-input-15-79259f374aaf>\u001b[0m in \u001b[0;36mcomprimento_parecido\u001b[0;34m(texto1, texto2, limite)\u001b[0m\n\u001b[1;32m      1\u001b[0m \u001b[0;32mdef\u001b[0m \u001b[0mcomprimento_parecido\u001b[0m\u001b[0;34m(\u001b[0m\u001b[0mtexto1\u001b[0m\u001b[0;34m,\u001b[0m \u001b[0mtexto2\u001b[0m\u001b[0;34m,\u001b[0m \u001b[0mlimite\u001b[0m\u001b[0;34m)\u001b[0m\u001b[0;34m:\u001b[0m\u001b[0;34m\u001b[0m\u001b[0;34m\u001b[0m\u001b[0m\n\u001b[0;32m----> 2\u001b[0;31m     \u001b[0mtamanho1\u001b[0m \u001b[0;34m=\u001b[0m \u001b[0mconta_letras\u001b[0m\u001b[0;34m(\u001b[0m\u001b[0mtexto1\u001b[0m\u001b[0;34m)\u001b[0m\u001b[0;34m\u001b[0m\u001b[0;34m\u001b[0m\u001b[0m\n\u001b[0m\u001b[1;32m      3\u001b[0m     \u001b[0mtamanho2\u001b[0m \u001b[0;34m=\u001b[0m \u001b[0mconta_letras\u001b[0m\u001b[0;34m(\u001b[0m\u001b[0mtexto2\u001b[0m\u001b[0;34m)\u001b[0m\u001b[0;34m\u001b[0m\u001b[0;34m\u001b[0m\u001b[0m\n\u001b[1;32m      4\u001b[0m \u001b[0;34m\u001b[0m\u001b[0m\n\u001b[1;32m      5\u001b[0m     \u001b[0;31m# detalhe: dependendo da ordem, o resultado da conta pode ser negativo\u001b[0m\u001b[0;34m\u001b[0m\u001b[0;34m\u001b[0m\u001b[0;34m\u001b[0m\u001b[0m\n",
            "\u001b[0;31mNameError\u001b[0m: name 'conta_letras' is not defined"
          ]
        }
      ]
    },
    {
      "cell_type": "code",
      "metadata": {
        "id": "LC8aLlWqNtJi",
        "colab": {
          "base_uri": "https://localhost:8080/",
          "height": 354
        },
        "outputId": "a62057e3-b5f8-4a25-e3e2-8410a0d71868"
      },
      "source": [
        "t1 = '12345'\n",
        "t2 = '1234'\n",
        "l = 0\n",
        "print(comprimento_parecido_checando_limite(t1, t2, l))"
      ],
      "execution_count": null,
      "outputs": [
        {
          "output_type": "stream",
          "name": "stdout",
          "text": [
            "AVISO, TALVEZ VOCÊ TENHA COMETIDO UM ERRO. O LIMITE ESTÁ COM VALOR 0\n"
          ]
        },
        {
          "output_type": "error",
          "ename": "NameError",
          "evalue": "ignored",
          "traceback": [
            "\u001b[0;31m---------------------------------------------------------------------------\u001b[0m",
            "\u001b[0;31mNameError\u001b[0m                                 Traceback (most recent call last)",
            "\u001b[0;32m<ipython-input-28-cf8ba8528621>\u001b[0m in \u001b[0;36m<module>\u001b[0;34m()\u001b[0m\n\u001b[1;32m      2\u001b[0m \u001b[0mt2\u001b[0m \u001b[0;34m=\u001b[0m \u001b[0;34m'1234'\u001b[0m\u001b[0;34m\u001b[0m\u001b[0;34m\u001b[0m\u001b[0m\n\u001b[1;32m      3\u001b[0m \u001b[0ml\u001b[0m \u001b[0;34m=\u001b[0m \u001b[0;36m0\u001b[0m\u001b[0;34m\u001b[0m\u001b[0;34m\u001b[0m\u001b[0m\n\u001b[0;32m----> 4\u001b[0;31m \u001b[0mprint\u001b[0m\u001b[0;34m(\u001b[0m\u001b[0mcomprimento_parecido_checando_limite\u001b[0m\u001b[0;34m(\u001b[0m\u001b[0mt1\u001b[0m\u001b[0;34m,\u001b[0m \u001b[0mt2\u001b[0m\u001b[0;34m,\u001b[0m \u001b[0ml\u001b[0m\u001b[0;34m)\u001b[0m\u001b[0;34m)\u001b[0m\u001b[0;34m\u001b[0m\u001b[0;34m\u001b[0m\u001b[0m\n\u001b[0m",
            "\u001b[0;32m<ipython-input-16-d2adbb46a5df>\u001b[0m in \u001b[0;36mcomprimento_parecido_checando_limite\u001b[0;34m(texto1, texto2, limite)\u001b[0m\n\u001b[1;32m      6\u001b[0m         \u001b[0mprint\u001b[0m\u001b[0;34m(\u001b[0m\u001b[0;34m\"AVISO, TALVEZ VOCÊ TENHA COMETIDO UM ERRO. O LIMITE ESTÁ COM VALOR 0\"\u001b[0m\u001b[0;34m)\u001b[0m\u001b[0;34m\u001b[0m\u001b[0;34m\u001b[0m\u001b[0m\n\u001b[1;32m      7\u001b[0m \u001b[0;34m\u001b[0m\u001b[0m\n\u001b[0;32m----> 8\u001b[0;31m     \u001b[0;32mreturn\u001b[0m \u001b[0mcomprimento_parecido\u001b[0m\u001b[0;34m(\u001b[0m\u001b[0mtexto1\u001b[0m\u001b[0;34m,\u001b[0m \u001b[0mtexto2\u001b[0m\u001b[0;34m,\u001b[0m \u001b[0mlimite\u001b[0m\u001b[0;34m)\u001b[0m\u001b[0;34m\u001b[0m\u001b[0;34m\u001b[0m\u001b[0m\n\u001b[0m",
            "\u001b[0;32m<ipython-input-15-79259f374aaf>\u001b[0m in \u001b[0;36mcomprimento_parecido\u001b[0;34m(texto1, texto2, limite)\u001b[0m\n\u001b[1;32m      1\u001b[0m \u001b[0;32mdef\u001b[0m \u001b[0mcomprimento_parecido\u001b[0m\u001b[0;34m(\u001b[0m\u001b[0mtexto1\u001b[0m\u001b[0;34m,\u001b[0m \u001b[0mtexto2\u001b[0m\u001b[0;34m,\u001b[0m \u001b[0mlimite\u001b[0m\u001b[0;34m)\u001b[0m\u001b[0;34m:\u001b[0m\u001b[0;34m\u001b[0m\u001b[0;34m\u001b[0m\u001b[0m\n\u001b[0;32m----> 2\u001b[0;31m     \u001b[0mtamanho1\u001b[0m \u001b[0;34m=\u001b[0m \u001b[0mconta_letras\u001b[0m\u001b[0;34m(\u001b[0m\u001b[0mtexto1\u001b[0m\u001b[0;34m)\u001b[0m\u001b[0;34m\u001b[0m\u001b[0;34m\u001b[0m\u001b[0m\n\u001b[0m\u001b[1;32m      3\u001b[0m     \u001b[0mtamanho2\u001b[0m \u001b[0;34m=\u001b[0m \u001b[0mconta_letras\u001b[0m\u001b[0;34m(\u001b[0m\u001b[0mtexto2\u001b[0m\u001b[0;34m)\u001b[0m\u001b[0;34m\u001b[0m\u001b[0;34m\u001b[0m\u001b[0m\n\u001b[1;32m      4\u001b[0m \u001b[0;34m\u001b[0m\u001b[0m\n\u001b[1;32m      5\u001b[0m     \u001b[0;31m# detalhe: dependendo da ordem, o resultado da conta pode ser negativo\u001b[0m\u001b[0;34m\u001b[0m\u001b[0;34m\u001b[0m\u001b[0;34m\u001b[0m\u001b[0m\n",
            "\u001b[0;31mNameError\u001b[0m: name 'conta_letras' is not defined"
          ]
        }
      ]
    },
    {
      "cell_type": "code",
      "metadata": {
        "id": "J9lGn6gwPH4c"
      },
      "source": [
        "t1 = '12345'\n",
        "t2 = '1234'\n",
        "l = -1\n",
        "print(comprimento_parecido_checando_limite(t1, t2, l))"
      ],
      "execution_count": null,
      "outputs": []
    },
    {
      "cell_type": "markdown",
      "metadata": {
        "id": "TSZ3HQ-gSLP3"
      },
      "source": [
        "# Problema 8\n",
        "\n",
        "Escreva uma função que recebe duas `str` de mesmo tamanho e retorna o número de caracteres diferentes.\n",
        "\n",
        "Se os parâmetros tiverem tamanhos diferentes, aborte a execução utilizando `raise ValueError(\"esta função só aceita parâmetros com mesmo número de caracteres\")`.\n",
        "\n",
        "Você pode usar funções previamente definidas."
      ]
    },
    {
      "cell_type": "code",
      "metadata": {
        "id": "N4FFgBjSqyQm"
      },
      "source": [
        "def frase_mesmoTamanho(textoA, textoB):\n",
        "    tamanho_textoA = len(textoA)\n",
        "    tamanho_textoB = len(textoB)\n",
        "\n",
        "    if tamanho_textoA != tamanho_textoB:\n",
        "        raise ValueError('\"esta função só aceita parâmetros com mesmo número de caracteres\"')\n",
        "    \n",
        "    indice = 0\n",
        "    diferentes = 0\n",
        "\n",
        "    while indice < len(textoA):\n",
        "        letra_textoA = textoA[indice]\n",
        "        letra_textoB = textoB[indice]\n",
        "        \n",
        "        if letra_textoA != letra_textoB:\n",
        "            diferentes += 1\n",
        "        \n",
        "        indice += 1\n",
        "    return diferentes"
      ],
      "execution_count": null,
      "outputs": []
    },
    {
      "cell_type": "code",
      "metadata": {
        "colab": {
          "base_uri": "https://localhost:8080/",
          "height": 286
        },
        "id": "S9S64wGX9749",
        "outputId": "4f8f11d9-81aa-4cb9-83a7-10097d5add7e"
      },
      "source": [
        "frase_mesmoTamanho('Antonio', ' ')"
      ],
      "execution_count": null,
      "outputs": [
        {
          "output_type": "error",
          "ename": "ValueError",
          "evalue": "ignored",
          "traceback": [
            "\u001b[0;31m---------------------------------------------------------------------------\u001b[0m",
            "\u001b[0;31mValueError\u001b[0m                                Traceback (most recent call last)",
            "\u001b[0;32m<ipython-input-28-45ef29fb7afd>\u001b[0m in \u001b[0;36m<module>\u001b[0;34m()\u001b[0m\n\u001b[0;32m----> 1\u001b[0;31m \u001b[0mfrase_mesmoTamanho\u001b[0m\u001b[0;34m(\u001b[0m\u001b[0;34m'Antonio'\u001b[0m\u001b[0;34m,\u001b[0m \u001b[0;34m' '\u001b[0m\u001b[0;34m)\u001b[0m\u001b[0;34m\u001b[0m\u001b[0;34m\u001b[0m\u001b[0m\n\u001b[0m",
            "\u001b[0;32m<ipython-input-27-6f7199b4d1df>\u001b[0m in \u001b[0;36mfrase_mesmoTamanho\u001b[0;34m(textoA, textoB)\u001b[0m\n\u001b[1;32m      4\u001b[0m \u001b[0;34m\u001b[0m\u001b[0m\n\u001b[1;32m      5\u001b[0m     \u001b[0;32mif\u001b[0m \u001b[0mtamanho_textoA\u001b[0m \u001b[0;34m!=\u001b[0m \u001b[0mtamanho_textoB\u001b[0m\u001b[0;34m:\u001b[0m\u001b[0;34m\u001b[0m\u001b[0;34m\u001b[0m\u001b[0m\n\u001b[0;32m----> 6\u001b[0;31m         \u001b[0;32mraise\u001b[0m \u001b[0mValueError\u001b[0m\u001b[0;34m(\u001b[0m\u001b[0;34m'\"esta função só aceita parâmetros com mesmo número de caracteres\"'\u001b[0m\u001b[0;34m)\u001b[0m\u001b[0;34m\u001b[0m\u001b[0;34m\u001b[0m\u001b[0m\n\u001b[0m\u001b[1;32m      7\u001b[0m \u001b[0;34m\u001b[0m\u001b[0m\n\u001b[1;32m      8\u001b[0m     \u001b[0mindice\u001b[0m \u001b[0;34m=\u001b[0m \u001b[0;36m0\u001b[0m\u001b[0;34m\u001b[0m\u001b[0;34m\u001b[0m\u001b[0m\n",
            "\u001b[0;31mValueError\u001b[0m: \"esta função só aceita parâmetros com mesmo número de caracteres\""
          ]
        }
      ]
    },
    {
      "cell_type": "code",
      "metadata": {
        "colab": {
          "base_uri": "https://localhost:8080/"
        },
        "id": "XKWTB04t-wQU",
        "outputId": "517b7e7b-73d2-49bd-89a6-0079bbda617d"
      },
      "source": [
        "frase_mesmoTamanho(\"antonio\", \"antonio\")"
      ],
      "execution_count": null,
      "outputs": [
        {
          "output_type": "execute_result",
          "data": {
            "text/plain": [
              "0"
            ]
          },
          "metadata": {},
          "execution_count": 29
        }
      ]
    },
    {
      "cell_type": "code",
      "metadata": {
        "colab": {
          "base_uri": "https://localhost:8080/"
        },
        "id": "klF1g24sA9Bg",
        "outputId": "d70288a5-aae4-47de-975c-2a3ee8b25575"
      },
      "source": [
        "frase_mesmoTamanho(\"antonio\", \"Antonio\")"
      ],
      "execution_count": null,
      "outputs": [
        {
          "output_type": "execute_result",
          "data": {
            "text/plain": [
              "1"
            ]
          },
          "metadata": {},
          "execution_count": 30
        }
      ]
    },
    {
      "cell_type": "code",
      "metadata": {
        "colab": {
          "base_uri": "https://localhost:8080/"
        },
        "id": "bC-1LwffCQCS",
        "outputId": "3fdd176b-4194-4569-ad21-422b60c7da3a"
      },
      "source": [
        "frase_mesmoTamanho('asdfg','çlkjh')"
      ],
      "execution_count": null,
      "outputs": [
        {
          "output_type": "execute_result",
          "data": {
            "text/plain": [
              "5"
            ]
          },
          "metadata": {},
          "execution_count": 31
        }
      ]
    },
    {
      "cell_type": "markdown",
      "metadata": {
        "id": "IY1yKO9LSLP3"
      },
      "source": [
        "## Solução (spoilers)"
      ]
    },
    {
      "cell_type": "code",
      "metadata": {
        "id": "l4IthcqiSLP3"
      },
      "source": [
        "def conta_chars_diff(texto1, texto2):\n",
        "    if conta_letras(texto1) != conta_letras(texto2):\n",
        "        raise ValueError(\"esta função só aceita parâmetros com mesmo número de caracteres\")\n",
        "    \n",
        "    total = conta_letras(texto1)\n",
        "    letras_diferentes = 0\n",
        "    indice = 0\n",
        "\n",
        "    while indice < total:\n",
        "        l1 = texto1[indice]\n",
        "        l2 = texto2[indice]\n",
        "\n",
        "        indice +=1\n",
        "\n",
        "        if l1 != l2:\n",
        "            letras_diferentes += 1\n",
        "\n",
        "    return letras_diferentes"
      ],
      "execution_count": null,
      "outputs": []
    },
    {
      "cell_type": "markdown",
      "metadata": {
        "id": "JO2JXIb-SLP3"
      },
      "source": [
        "## Exemplos de entradas e saídas:"
      ]
    },
    {
      "cell_type": "code",
      "metadata": {
        "id": "dS38iql4SLP4"
      },
      "source": [
        "t1 = 'abc'\n",
        "t2 = 'abc'\n",
        "print(conta_chars_diff(t1, t2))"
      ],
      "execution_count": null,
      "outputs": []
    },
    {
      "cell_type": "code",
      "metadata": {
        "id": "BPuTk90pSLP4"
      },
      "source": [
        "t1 = 'abc'\n",
        "t2 = 'aba'\n",
        "print(conta_chars_diff(t1, t2))"
      ],
      "execution_count": null,
      "outputs": []
    },
    {
      "cell_type": "code",
      "metadata": {
        "id": "yCBsN2NKSLP4"
      },
      "source": [
        "t1 = ''\n",
        "t2 = ''\n",
        "print(conta_chars_diff(t1, t2))"
      ],
      "execution_count": null,
      "outputs": []
    },
    {
      "cell_type": "code",
      "metadata": {
        "id": "2meNWW4dTTSH"
      },
      "source": [
        "t1 = 'abc'\n",
        "t2 = 'abcd'\n",
        "print(conta_chars_diff(t1, t2))"
      ],
      "execution_count": null,
      "outputs": []
    }
  ]
}