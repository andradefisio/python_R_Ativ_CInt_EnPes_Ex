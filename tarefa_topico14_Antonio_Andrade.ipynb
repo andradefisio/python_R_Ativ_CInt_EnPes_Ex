{
  "nbformat": 4,
  "nbformat_minor": 0,
  "metadata": {
    "colab": {
      "name": "tarefa_topico14_Antonio_Andrade.ipynb",
      "provenance": [],
      "include_colab_link": true
    },
    "kernelspec": {
      "name": "ir",
      "display_name": "R"
    },
    "language_info": {
      "name": "R"
    }
  },
  "cells": [
    {
      "cell_type": "markdown",
      "metadata": {
        "id": "view-in-github",
        "colab_type": "text"
      },
      "source": [
        "<a href=\"https://colab.research.google.com/github/andradefisio/python_R_Ativ_CInt_EnPes_Ex/blob/main/tarefa_topico14_Antonio_Andrade.ipynb\" target=\"_parent\"><img src=\"https://colab.research.google.com/assets/colab-badge.svg\" alt=\"Open In Colab\"/></a>"
      ]
    },
    {
      "cell_type": "markdown",
      "metadata": {
        "id": "OR9Bdo_s7z0Q"
      },
      "source": [
        "    ID: Antonio Carlos Ferraz de Andrade. \n",
        "\n",
        "    Tarefa do tópico 14\n"
      ]
    },
    {
      "cell_type": "markdown",
      "metadata": {
        "id": "65ESaA8m7_Im"
      },
      "source": [
        "\n",
        "\n",
        "Com base na aula síncrona de 04/11 e utilizando o mesmo conjunto de dados da aula, que está\n",
        "disponível neste tópico (student-mat):\n",
        "\n",
        "* Replique o que foi feito na aula, mas desta vez escolhendo outras variáveis que não foram\n",
        "trabalhadas pela professora;\n",
        "\n",
        "* Explore como as variáveis escolhidas por você se comportam individualmente e as\n",
        "relações entre si.\n",
        "\n",
        "Este notebook está aberto em R. A aula da professora está traduzida também para Python,\n",
        "cujo código foi disponibilizado neste tópico (Notebook traduzido para Python). Você pode\n",
        "fazer esta tarefa somente em R, somente em Python ou em ambas as linguagens. \n",
        "\n"
      ]
    },
    {
      "cell_type": "markdown",
      "metadata": {
        "id": "rCUggZYt8UN0"
      },
      "source": [
        " Todo estudo deve ser guiado, ou norteado por uma pergunta. Uma descrição de uma variável\n",
        "que me interessa é saber se o tempo que o sujeito dispende para se deslocar até a escola \n",
        "influencia o seu rendimento acadêmico. Espera-se, especula-se,  uma relação inversamente\n",
        "proporcional, na qual quanto maior o tempo para se deslocar, menor o rendimento escolar, \n",
        "dado o cansaço físico, o tempo dispendido no deslocamento (VARIABLE: \"traveltime\"). \n"
      ]
    },
    {
      "cell_type": "code",
      "metadata": {
        "id": "ko9dCVQ70yb1"
      },
      "source": [
        "library(ggplot2)"
      ],
      "execution_count": null,
      "outputs": []
    },
    {
      "cell_type": "code",
      "metadata": {
        "id": "J6kYrcat1Hfv"
      },
      "source": [
        "dados <- read.csv('student-mat.csv')"
      ],
      "execution_count": null,
      "outputs": []
    },
    {
      "cell_type": "code",
      "metadata": {
        "colab": {
          "base_uri": "https://localhost:8080/",
          "height": 50
        },
        "id": "EGnn69M71Ys5",
        "outputId": "e7ad6905-6ceb-49ed-80e7-739c96d5fd1a"
      },
      "source": [
        "names(dados) #nome das colunas"
      ],
      "execution_count": null,
      "outputs": [
        {
          "output_type": "display_data",
          "data": {
            "text/plain": [
              " [1] \"school\"     \"sex\"        \"age\"        \"address\"    \"famsize\"   \n",
              " [6] \"Pstatus\"    \"Medu\"       \"Fedu\"       \"Mjob\"       \"Fjob\"      \n",
              "[11] \"reason\"     \"guardian\"   \"traveltime\" \"studytime\"  \"failures\"  \n",
              "[16] \"schoolsup\"  \"famsup\"     \"paid\"       \"activities\" \"nursery\"   \n",
              "[21] \"higher\"     \"internet\"   \"romantic\"   \"famrel\"     \"freetime\"  \n",
              "[26] \"goout\"      \"Dalc\"       \"Walc\"       \"health\"     \"absences\"  \n",
              "[31] \"G1\"         \"G2\"         \"G3\"        "
            ],
            "text/latex": "\\begin{enumerate*}\n\\item 'school'\n\\item 'sex'\n\\item 'age'\n\\item 'address'\n\\item 'famsize'\n\\item 'Pstatus'\n\\item 'Medu'\n\\item 'Fedu'\n\\item 'Mjob'\n\\item 'Fjob'\n\\item 'reason'\n\\item 'guardian'\n\\item 'traveltime'\n\\item 'studytime'\n\\item 'failures'\n\\item 'schoolsup'\n\\item 'famsup'\n\\item 'paid'\n\\item 'activities'\n\\item 'nursery'\n\\item 'higher'\n\\item 'internet'\n\\item 'romantic'\n\\item 'famrel'\n\\item 'freetime'\n\\item 'goout'\n\\item 'Dalc'\n\\item 'Walc'\n\\item 'health'\n\\item 'absences'\n\\item 'G1'\n\\item 'G2'\n\\item 'G3'\n\\end{enumerate*}\n",
            "text/markdown": "1. 'school'\n2. 'sex'\n3. 'age'\n4. 'address'\n5. 'famsize'\n6. 'Pstatus'\n7. 'Medu'\n8. 'Fedu'\n9. 'Mjob'\n10. 'Fjob'\n11. 'reason'\n12. 'guardian'\n13. 'traveltime'\n14. 'studytime'\n15. 'failures'\n16. 'schoolsup'\n17. 'famsup'\n18. 'paid'\n19. 'activities'\n20. 'nursery'\n21. 'higher'\n22. 'internet'\n23. 'romantic'\n24. 'famrel'\n25. 'freetime'\n26. 'goout'\n27. 'Dalc'\n28. 'Walc'\n29. 'health'\n30. 'absences'\n31. 'G1'\n32. 'G2'\n33. 'G3'\n\n\n",
            "text/html": [
              "<style>\n",
              ".list-inline {list-style: none; margin:0; padding: 0}\n",
              ".list-inline>li {display: inline-block}\n",
              ".list-inline>li:not(:last-child)::after {content: \"\\00b7\"; padding: 0 .5ex}\n",
              "</style>\n",
              "<ol class=list-inline><li>'school'</li><li>'sex'</li><li>'age'</li><li>'address'</li><li>'famsize'</li><li>'Pstatus'</li><li>'Medu'</li><li>'Fedu'</li><li>'Mjob'</li><li>'Fjob'</li><li>'reason'</li><li>'guardian'</li><li>'traveltime'</li><li>'studytime'</li><li>'failures'</li><li>'schoolsup'</li><li>'famsup'</li><li>'paid'</li><li>'activities'</li><li>'nursery'</li><li>'higher'</li><li>'internet'</li><li>'romantic'</li><li>'famrel'</li><li>'freetime'</li><li>'goout'</li><li>'Dalc'</li><li>'Walc'</li><li>'health'</li><li>'absences'</li><li>'G1'</li><li>'G2'</li><li>'G3'</li></ol>\n"
            ]
          },
          "metadata": {}
        }
      ]
    },
    {
      "cell_type": "code",
      "metadata": {
        "colab": {
          "base_uri": "https://localhost:8080/",
          "height": 34
        },
        "id": "MASGnutH1hxZ",
        "outputId": "3df400d7-d5e4-4e76-b778-992d2be2c0e9"
      },
      "source": [
        "dim(dados) # dimensão da base"
      ],
      "execution_count": null,
      "outputs": [
        {
          "output_type": "display_data",
          "data": {
            "text/plain": [
              "[1] 395  33"
            ],
            "text/latex": "\\begin{enumerate*}\n\\item 395\n\\item 33\n\\end{enumerate*}\n",
            "text/markdown": "1. 395\n2. 33\n\n\n",
            "text/html": [
              "<style>\n",
              ".list-inline {list-style: none; margin:0; padding: 0}\n",
              ".list-inline>li {display: inline-block}\n",
              ".list-inline>li:not(:last-child)::after {content: \"\\00b7\"; padding: 0 .5ex}\n",
              "</style>\n",
              "<ol class=list-inline><li>395</li><li>33</li></ol>\n"
            ]
          },
          "metadata": {}
        }
      ]
    },
    {
      "cell_type": "code",
      "metadata": {
        "colab": {
          "base_uri": "https://localhost:8080/"
        },
        "id": "uU8DYKJQ1k-4",
        "outputId": "5475bee0-af47-4f84-d91a-f99d67f24555"
      },
      "source": [
        "str(dados) # estrutura da base"
      ],
      "execution_count": null,
      "outputs": [
        {
          "output_type": "stream",
          "name": "stdout",
          "text": [
            "'data.frame':\t395 obs. of  33 variables:\n",
            " $ school    : chr  \"GP\" \"GP\" \"GP\" \"GP\" ...\n",
            " $ sex       : chr  \"F\" \"F\" \"F\" \"F\" ...\n",
            " $ age       : int  18 17 15 15 16 16 16 17 15 15 ...\n",
            " $ address   : chr  \"U\" \"U\" \"U\" \"U\" ...\n",
            " $ famsize   : chr  \"GT3\" \"GT3\" \"LE3\" \"GT3\" ...\n",
            " $ Pstatus   : chr  \"A\" \"T\" \"T\" \"T\" ...\n",
            " $ Medu      : int  4 1 1 4 3 4 2 4 3 3 ...\n",
            " $ Fedu      : int  4 1 1 2 3 3 2 4 2 4 ...\n",
            " $ Mjob      : chr  \"at_home\" \"at_home\" \"at_home\" \"health\" ...\n",
            " $ Fjob      : chr  \"teacher\" \"other\" \"other\" \"services\" ...\n",
            " $ reason    : chr  \"course\" \"course\" \"other\" \"home\" ...\n",
            " $ guardian  : chr  \"mother\" \"father\" \"mother\" \"mother\" ...\n",
            " $ traveltime: int  2 1 1 1 1 1 1 2 1 1 ...\n",
            " $ studytime : int  2 2 2 3 2 2 2 2 2 2 ...\n",
            " $ failures  : int  0 0 3 0 0 0 0 0 0 0 ...\n",
            " $ schoolsup : chr  \"yes\" \"no\" \"yes\" \"no\" ...\n",
            " $ famsup    : chr  \"no\" \"yes\" \"no\" \"yes\" ...\n",
            " $ paid      : chr  \"no\" \"no\" \"yes\" \"yes\" ...\n",
            " $ activities: chr  \"no\" \"no\" \"no\" \"yes\" ...\n",
            " $ nursery   : chr  \"yes\" \"no\" \"yes\" \"yes\" ...\n",
            " $ higher    : chr  \"yes\" \"yes\" \"yes\" \"yes\" ...\n",
            " $ internet  : chr  \"no\" \"yes\" \"yes\" \"yes\" ...\n",
            " $ romantic  : chr  \"no\" \"no\" \"no\" \"yes\" ...\n",
            " $ famrel    : int  4 5 4 3 4 5 4 4 4 5 ...\n",
            " $ freetime  : int  3 3 3 2 3 4 4 1 2 5 ...\n",
            " $ goout     : int  4 3 2 2 2 2 4 4 2 1 ...\n",
            " $ Dalc      : int  1 1 2 1 1 1 1 1 1 1 ...\n",
            " $ Walc      : int  1 1 3 1 2 2 1 1 1 1 ...\n",
            " $ health    : int  3 3 3 5 5 5 3 1 1 5 ...\n",
            " $ absences  : int  6 4 10 2 4 10 0 6 0 0 ...\n",
            " $ G1        : int  5 5 7 15 6 15 12 6 16 14 ...\n",
            " $ G2        : int  6 5 8 14 10 15 12 5 18 15 ...\n",
            " $ G3        : int  6 6 10 15 10 15 11 6 19 15 ...\n"
          ]
        }
      ]
    },
    {
      "cell_type": "code",
      "metadata": {
        "id": "UEwRHwnF1n6z"
      },
      "source": [
        "# fazendo o R ler as variáveis (faz o R reconhecer todas as variáveis dentro da base)\n",
        "attach(dados)"
      ],
      "execution_count": null,
      "outputs": []
    },
    {
      "cell_type": "code",
      "metadata": {
        "colab": {
          "base_uri": "https://localhost:8080/",
          "height": 437
        },
        "id": "Qpa9SZXL2AKS",
        "outputId": "455c0aaf-ea6a-40d5-8d7d-7ccc883c76ea"
      },
      "source": [
        "ggplot(data = dados, aes(x=traveltime)) + geom_histogram(fill='orange', bins = 7) +\n",
        "        xlab('tempo de deslocamente até a escola') + ylab('contagem')"
      ],
      "execution_count": null,
      "outputs": [
        {
          "output_type": "display_data",
          "data": {
            "image/png": "[encoded data removed]",
            "text/plain": [
              "plot without title"
            ]
          },
          "metadata": {
            "image/png": {
              "width": 420,
              "height": 420
            }
          }
        }
      ]
    },
    {
      "cell_type": "code",
      "metadata": {
        "colab": {
          "base_uri": "https://localhost:8080/",
          "height": 437
        },
        "id": "7cfh7CTl2Lwp",
        "outputId": "996848e3-f256-40df-9f42-55c5996fd72e"
      },
      "source": [
        "ggplot(data = dados, aes(x = factor(traveltime), y = G1)) + geom_boxplot()"
      ],
      "execution_count": null,
      "outputs": [
        {
          "output_type": "display_data",
          "data": {
            "image/png": "[encoded data removed]",
            "text/plain": [
              "plot without title"
            ]
          },
          "metadata": {
            "image/png": {
              "width": 420,
              "height": 420
            }
          }
        }
      ]
    },
    {
      "cell_type": "code",
      "metadata": {
        "colab": {
          "base_uri": "https://localhost:8080/",
          "height": 437
        },
        "id": "n44oh3Eu3KP1",
        "outputId": "556aae8d-bb67-4907-f4ef-543c911193e5"
      },
      "source": [
        "ggplot(data = dados, aes(x = factor(traveltime), y = G2)) + geom_boxplot()"
      ],
      "execution_count": null,
      "outputs": [
        {
          "output_type": "display_data",
          "data": {
            "image/png": "[encoded data removed]",
            "text/plain": [
              "plot without title"
            ]
          },
          "metadata": {
            "image/png": {
              "width": 420,
              "height": 420
            }
          }
        }
      ]
    },
    {
      "cell_type": "code",
      "metadata": {
        "colab": {
          "base_uri": "https://localhost:8080/",
          "height": 437
        },
        "id": "CsD9LTjR3Muh",
        "outputId": "a4f9caf8-41e3-4726-a36c-9f709a23e8d5"
      },
      "source": [
        "ggplot(data = dados, aes(x = factor(traveltime), y = G3)) + geom_boxplot()"
      ],
      "execution_count": null,
      "outputs": [
        {
          "output_type": "display_data",
          "data": {
            "image/png": "[encoded data removed]",
            "text/plain": [
              "plot without title"
            ]
          },
          "metadata": {
            "image/png": {
              "width": 420,
              "height": 420
            }
          }
        }
      ]
    },
    {
      "cell_type": "markdown",
      "metadata": {
        "id": "WPMIaRLf3OqK"
      },
      "source": [
        "Parece que os indivíduos que gastam mais tempo para ir à escola tem notas menores que aqueles que gastam menos tempo. \n"
      ]
    },
    {
      "cell_type": "markdown",
      "metadata": {
        "id": "EEMQq9S84xgI"
      },
      "source": [
        "# Para analisar a correlação entre a variável categórica \"traveltime\" e as notas (quantitativa/discreta), é recomendado usar o teste Kruskal-Wallis test.\n",
        "\n",
        "https://stats.stackexchange.com/questions/484299/how-to-check-the-correlation-between-categorical-and-numeric-independent-variabl\n",
        "\n",
        "**How to check the correlation between categorical and numeric independent variable in R? **"
      ]
    },
    {
      "cell_type": "code",
      "metadata": {
        "colab": {
          "base_uri": "https://localhost:8080/",
          "height": 101
        },
        "id": "IIzyTVep5DX7",
        "outputId": "b7090b11-532a-4397-c0d5-3320c9de8c22"
      },
      "source": [
        "kruskal.test(traveltime~G1)"
      ],
      "execution_count": null,
      "outputs": [
        {
          "output_type": "display_data",
          "data": {
            "text/plain": [
              "\n",
              "\tKruskal-Wallis rank sum test\n",
              "\n",
              "data:  traveltime by G1\n",
              "Kruskal-Wallis chi-squared = 14.184, df = 16, p-value = 0.585\n"
            ]
          },
          "metadata": {}
        }
      ]
    },
    {
      "cell_type": "code",
      "metadata": {
        "colab": {
          "base_uri": "https://localhost:8080/",
          "height": 101
        },
        "id": "PEMTp7Af6J5Y",
        "outputId": "d31ef273-cb47-4843-e23b-cddcabad441b"
      },
      "source": [
        "kruskal.test(traveltime~G2)"
      ],
      "execution_count": null,
      "outputs": [
        {
          "output_type": "display_data",
          "data": {
            "text/plain": [
              "\n",
              "\tKruskal-Wallis rank sum test\n",
              "\n",
              "data:  traveltime by G2\n",
              "Kruskal-Wallis chi-squared = 15.135, df = 16, p-value = 0.5148\n"
            ]
          },
          "metadata": {}
        }
      ]
    },
    {
      "cell_type": "code",
      "metadata": {
        "colab": {
          "base_uri": "https://localhost:8080/",
          "height": 101
        },
        "id": "OL-b9qr_6OTl",
        "outputId": "820f6df4-e704-407f-82a8-b6d6d1d10de8"
      },
      "source": [
        "kruskal.test(traveltime~G3)"
      ],
      "execution_count": null,
      "outputs": [
        {
          "output_type": "display_data",
          "data": {
            "text/plain": [
              "\n",
              "\tKruskal-Wallis rank sum test\n",
              "\n",
              "data:  traveltime by G3\n",
              "Kruskal-Wallis chi-squared = 18.968, df = 17, p-value = 0.3304\n"
            ]
          },
          "metadata": {}
        }
      ]
    },
    {
      "cell_type": "markdown",
      "metadata": {
        "id": "Bh3k5sNV65LL"
      },
      "source": [
        "O \"p-value\" obtido do teste Kruskal-Wallis (\"p-value\" todos > que .05) indica não haver diferença significativa. Isto nos leva a crer que não há forte associação entre o resultados das notas e o tempo gasta até a escola. "
      ]
    }
  ]
}